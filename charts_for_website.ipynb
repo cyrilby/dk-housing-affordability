{
 "cells": [
  {
   "cell_type": "markdown",
   "id": "081627e8",
   "metadata": {},
   "source": [
    "# Charts for my website\n",
    "\n",
    "- Author: Kiril from Mindgraph\n",
    "- Last meaningful update: 15-04-2025\n",
    "\n",
    "This notebook creates some `plotly` charts for [my website](www.mindgraph.dk). The charts are displayed as visuals in this notebook and also exported to `.html` files on GitHub so that they can be directly embedded on the website."
   ]
  },
  {
   "cell_type": "code",
   "execution_count": 35,
   "id": "b30476aa",
   "metadata": {},
   "outputs": [],
   "source": [
    "import pandas as pd\n",
    "import numpy as np\n",
    "import plotly.express as px\n",
    "import plotly.io as pio"
   ]
  },
  {
   "cell_type": "code",
   "execution_count": 36,
   "id": "5443ef94",
   "metadata": {},
   "outputs": [],
   "source": [
    "# Importing data\n",
    "sales_data = pd.read_parquet(\"Output data/FinalSalesAndIncome.parquet\")\n",
    "indexed_development = pd.read_parquet(\"Output data/IndexedDevelopment.parquet\")\n",
    "\n",
    "# Getting min and max years for historical data\n",
    "min_hist = sales_data[sales_data[\"PriceType\"] == \"Actual price\"][\"Year\"].min()\n",
    "max_hist = sales_data[sales_data[\"PriceType\"] == \"Actual price\"][\"Year\"].max()"
   ]
  },
  {
   "cell_type": "code",
   "execution_count": 37,
   "id": "29caed7d",
   "metadata": {},
   "outputs": [],
   "source": [
    "# # Changing to the default color palette in plotly\n",
    "# pio.templates.default = \"plotly\""
   ]
  },
  {
   "cell_type": "code",
   "execution_count": 38,
   "id": "d8515375",
   "metadata": {},
   "outputs": [],
   "source": [
    "# Creating a custom color palette with the MG colors\n",
    "# Using the \"Classy\" palette from: https://mycolor.space/?hex=%231EA2B5&sub=1\n",
    "my_custom_palette = [\"#1ea2b5\", \"#324b4f\", \"#95b0b5\", \"#9f8ac3\", \"#6b588d\"]\n",
    "my_template = pio.templates[\"plotly_white\"].layout.template\n",
    "my_template.layout.colorway = my_custom_palette\n",
    "pio.templates[\"my_custom_template\"] = my_template\n",
    "pio.templates.default = \"my_custom_template\""
   ]
  },
  {
   "cell_type": "markdown",
   "id": "27292ed4",
   "metadata": {},
   "source": [
    "## Template functions for chart\n",
    "\n",
    "If we need to recreate the same chart with different subsamples of the data, it makes more sense to store the chart as a function:"
   ]
  },
  {
   "cell_type": "code",
   "execution_count": 39,
   "id": "e414285d",
   "metadata": {},
   "outputs": [],
   "source": [
    "def plot_price(\n",
    "    sales_data: pd.DataFrame,\n",
    "    metric_for_use: str,\n",
    "    chart_lang: str,\n",
    "    selected_locations: list[str],\n",
    "    price_types: list[str],\n",
    "    chart_title: str | None = None,\n",
    "    center_legend: bool = True,\n",
    "    increase_y_margin: bool = True,\n",
    ") -> None:\n",
    "\n",
    "    # Preparing data for chart\n",
    "    data_to_display = sales_data.copy()\n",
    "    data_to_display = data_to_display[\n",
    "        data_to_display[\"Municipality\"].isin(selected_locations)\n",
    "    ]\n",
    "    data_to_display = data_to_display[\n",
    "        data_to_display[\"PriceType\"].isin(price_types)\n",
    "    ].copy()\n",
    "    data_to_display[\"Kommune\"] = data_to_display[\"Municipality\"]\n",
    "\n",
    "    # Rounding off to 2 decimals\n",
    "    data_to_display[metric_for_use] = np.round(data_to_display[metric_for_use], 2)\n",
    "\n",
    "    # Sorting and cleaning up\n",
    "    data_to_display.sort_values(\"Year\", ascending=False, inplace=True)\n",
    "    data_to_display.reset_index(inplace=True, drop=True)\n",
    "\n",
    "    # Identifying the selected municipalities\n",
    "    unique_mncp = data_to_display[\"Municipality\"].unique()\n",
    "\n",
    "    # Checking whether multiple municipalities are selected\n",
    "    if len(unique_mncp) > 1:\n",
    "        if chart_lang == \"en\":\n",
    "            color_var_for_chart = \"Municipality\"\n",
    "        else:\n",
    "            color_var_for_chart = \"Kommune\"\n",
    "    else:\n",
    "        color_var_for_chart = None\n",
    "\n",
    "    # Preparing text-based descriptions of the metrics\n",
    "    if metric_for_use == \"AvgSalesPrice\":\n",
    "        if chart_lang == \"en\":\n",
    "            metric_for_use_txt = \"Average price per m²\"\n",
    "        else:\n",
    "            metric_for_use_txt = \"Gennemsnitlig pris pr. m²\"\n",
    "    elif metric_for_use == \"AvgSalesPriceIdx\":\n",
    "        if chart_lang == \"en\":\n",
    "            metric_for_use_txt = \"Average price per m² (indexed)\"\n",
    "        else:\n",
    "            metric_for_use_txt = \"Gennemsnitlig pris pr. m² (indekseret)\"\n",
    "    elif metric_for_use == \"M2AffordedTotal\":\n",
    "        if chart_lang == \"en\":\n",
    "            metric_for_use_txt = \"m² buyable with annual disposable income\"\n",
    "        else:\n",
    "            metric_for_use_txt = \"m² som kan købes med en årlig disponibel indkomst\"\n",
    "    elif metric_for_use == \"YearsoBuy50M2Total\":\n",
    "        if chart_lang == \"en\":\n",
    "            metric_for_use_txt = \"Years of annual income needed to buy 50 m²\"\n",
    "        else:\n",
    "            metric_for_use_txt = \"Antal indkomstår, som kræves for at købe 50 m²\"\n",
    "    else:\n",
    "        if chart_lang == \"en\":\n",
    "            metric_for_use_txt = \"Unknown\"\n",
    "        else:\n",
    "            metric_for_use_txt = \"Ukendt\"\n",
    "\n",
    "    # Plotting the data on a chart\n",
    "    year_label = \"Year\" if chart_lang == \"en\" else \"År\"\n",
    "    fig = px.line(\n",
    "        data_to_display,\n",
    "        x=\"Year\",\n",
    "        y=metric_for_use,\n",
    "        color=color_var_for_chart,\n",
    "        labels={\n",
    "            \"Year\": year_label,\n",
    "            metric_for_use: metric_for_use_txt,\n",
    "        },\n",
    "    )\n",
    "    if chart_title:\n",
    "        fig.update_layout({\"title\": chart_title})\n",
    "    fig.update_traces(textposition=\"top center\")\n",
    "\n",
    "    # Optional centering the legend on top of the chart\n",
    "    if center_legend:\n",
    "        fig.update_layout(\n",
    "            legend=dict(\n",
    "                x=0.5,  # Position along the x-axis (0.5 is the center)\n",
    "                y=1.1,  # Position above the plot area (greater than 1 to move it above)\n",
    "                xanchor=\"center\",  # Center the legend horizontally\n",
    "                yanchor=\"bottom\",  # Align the bottom of the legend to the y=1.1 position\n",
    "                bgcolor=\"rgba(255, 255, 255, 0.5)\",  # Transparent background for the legend\n",
    "            ),\n",
    "        )\n",
    "\n",
    "    fig\n",
    "    return fig"
   ]
  },
  {
   "cell_type": "markdown",
   "id": "658d09b2",
   "metadata": {},
   "source": [
    "## Figure 1"
   ]
  },
  {
   "cell_type": "code",
   "execution_count": 40,
   "id": "a33091b3",
   "metadata": {},
   "outputs": [],
   "source": [
    "# Setting user parameters\n",
    "n_mncp_to_show = 15\n",
    "price_types = [\"Actual price\"]\n",
    "# chart_title = f\"The {n_mncp_to_show} municipalities with the highest price increase between {min_hist}-{max_hist}\""
   ]
  },
  {
   "cell_type": "code",
   "execution_count": 41,
   "id": "e9319244",
   "metadata": {},
   "outputs": [],
   "source": [
    "# Filtering the data and sorting in the appropriate order\n",
    "data_for_plot = sales_data.copy()\n",
    "data_for_plot = data_for_plot[data_for_plot[\"Year\"] == max_hist].copy()\n",
    "data_for_plot = data_for_plot[\n",
    "    data_for_plot[\"Municipality\"] != \"National average\"\n",
    "].copy()\n",
    "data_for_plot.sort_values(\"AvgSalesPriceChange\", ascending=False, inplace=True)\n",
    "data_for_plot.reset_index(inplace=True, drop=True)\n",
    "data_for_plot = data_for_plot[:n_mncp_to_show].copy()\n",
    "data_for_plot.sort_values(\"AvgSalesPriceChange\", inplace=True)"
   ]
  },
  {
   "cell_type": "markdown",
   "id": "8f9322dc",
   "metadata": {},
   "source": [
    "### English"
   ]
  },
  {
   "cell_type": "code",
   "execution_count": 42,
   "id": "5ad0c846",
   "metadata": {},
   "outputs": [
    {
     "data": {
      "application/vnd.plotly.v1+json": {
       "config": {
        "plotlyServerURL": "https://plot.ly"
       },
       "data": [
        {
         "alignmentgroup": "True",
         "hovertemplate": "% change in average price per m²=%{x}<br>Municipality=%{y}<extra></extra>",
         "legendgroup": "",
         "marker": {
          "color": "#1ea2b5",
          "pattern": {
           "shape": ""
          }
         },
         "name": "",
         "offsetgroup": "",
         "orientation": "h",
         "showlegend": false,
         "textposition": "auto",
         "type": "bar",
         "x": [
          413.5,
          431.1,
          431.9,
          441,
          449.1,
          456.1,
          458,
          466.6,
          474.2,
          551.9,
          572.9,
          594.5,
          725,
          751.8,
          937
         ],
         "xaxis": "x",
         "y": [
          "Roskilde",
          "Skanderborg",
          "Aarhus",
          "Gentofte",
          "Egedal",
          "Gribskov",
          "Hørsholm",
          "Favrskov",
          "Dragør",
          "Rebild",
          "Jammerbugt",
          "Ringkøbing-Skjern",
          "Vejen",
          "København",
          "Frederiksberg"
         ],
         "yaxis": "y"
        }
       ],
       "layout": {
        "barmode": "relative",
        "legend": {
         "tracegroupgap": 0
        },
        "margin": {
         "l": 120,
         "t": 60
        },
        "template": {
         "layout": {
          "colorway": [
           "#1ea2b5",
           "#324b4f",
           "#95b0b5",
           "#9f8ac3",
           "#6b588d"
          ]
         }
        },
        "xaxis": {
         "anchor": "y",
         "domain": [
          0,
          1
         ],
         "title": {
          "text": "% change in average price per m²"
         }
        },
        "yaxis": {
         "anchor": "x",
         "domain": [
          0,
          1
         ],
         "tickfont": {
          "size": 10
         },
         "title": {
          "text": "Municipality"
         }
        }
       }
      }
     },
     "metadata": {},
     "output_type": "display_data"
    }
   ],
   "source": [
    "# Plotting the data on a chart\n",
    "fig = px.bar(\n",
    "    data_for_plot,\n",
    "    x=\"AvgSalesPriceChange\",\n",
    "    y=\"Municipality\",\n",
    "    orientation=\"h\",\n",
    "    # title=f\"Top {n_mncp_to_show} municipalities in {max_hist} with the highest change in price per m² relative to 1992\",\n",
    "    labels={\n",
    "        \"Municipality\": \"Municipality\",\n",
    "        \"AvgSalesPriceChange\": \"% change in average price per m²\",\n",
    "    },\n",
    ")\n",
    "\n",
    "# Adjust the Y-axis font size to fit the labels\n",
    "fig.update_layout(\n",
    "    margin=dict(l=120),  # Increase margin to accommodate longer text labels\n",
    "    yaxis=dict(\n",
    "        tickfont=dict(size=10),  # Reduce the font size of the Y-axis labels\n",
    "    ),\n",
    ")\n",
    "\n",
    "fig\n",
    "\n",
    "# Export to a standalone HTML file\n",
    "html_str = pio.to_html(fig, full_html=False, include_plotlyjs=\"cdn\")\n",
    "with open(\"Charts/Figure1_EN.html\", \"w\", encoding=\"utf-8\") as f:\n",
    "    f.write(html_str)\n",
    "\n",
    "# # Exporting as a PNG file (requires the \"kaleido\" package)\n",
    "# fig.write_image(\"Charts/Figure1_EN.png\")\n",
    "\n",
    "# Previewing\n",
    "fig"
   ]
  },
  {
   "cell_type": "markdown",
   "id": "ff4ccb4f",
   "metadata": {},
   "source": [
    "### Danish"
   ]
  },
  {
   "cell_type": "code",
   "execution_count": 43,
   "id": "2b8f7717",
   "metadata": {},
   "outputs": [
    {
     "data": {
      "application/vnd.plotly.v1+json": {
       "config": {
        "plotlyServerURL": "https://plot.ly"
       },
       "data": [
        {
         "alignmentgroup": "True",
         "hovertemplate": "% ændring i gennemsnitlig pris pr. m²=%{x}<br>Kommune=%{y}<extra></extra>",
         "legendgroup": "",
         "marker": {
          "color": "#1ea2b5",
          "pattern": {
           "shape": ""
          }
         },
         "name": "",
         "offsetgroup": "",
         "orientation": "h",
         "showlegend": false,
         "textposition": "auto",
         "type": "bar",
         "x": [
          413.5,
          431.1,
          431.9,
          441,
          449.1,
          456.1,
          458,
          466.6,
          474.2,
          551.9,
          572.9,
          594.5,
          725,
          751.8,
          937
         ],
         "xaxis": "x",
         "y": [
          "Roskilde",
          "Skanderborg",
          "Aarhus",
          "Gentofte",
          "Egedal",
          "Gribskov",
          "Hørsholm",
          "Favrskov",
          "Dragør",
          "Rebild",
          "Jammerbugt",
          "Ringkøbing-Skjern",
          "Vejen",
          "København",
          "Frederiksberg"
         ],
         "yaxis": "y"
        }
       ],
       "layout": {
        "barmode": "relative",
        "legend": {
         "tracegroupgap": 0
        },
        "margin": {
         "l": 120,
         "t": 60
        },
        "template": {
         "layout": {
          "colorway": [
           "#1ea2b5",
           "#324b4f",
           "#95b0b5",
           "#9f8ac3",
           "#6b588d"
          ]
         }
        },
        "xaxis": {
         "anchor": "y",
         "domain": [
          0,
          1
         ],
         "title": {
          "text": "% ændring i gennemsnitlig pris pr. m²"
         }
        },
        "yaxis": {
         "anchor": "x",
         "domain": [
          0,
          1
         ],
         "tickfont": {
          "size": 10
         },
         "title": {
          "text": "Kommune"
         }
        }
       }
      }
     },
     "metadata": {},
     "output_type": "display_data"
    }
   ],
   "source": [
    "# Plotting the data on a chart\n",
    "fig = px.bar(\n",
    "    data_for_plot,\n",
    "    x=\"AvgSalesPriceChange\",\n",
    "    y=\"Municipality\",\n",
    "    orientation=\"h\",\n",
    "    labels={\n",
    "        \"Municipality\": \"Kommune\",\n",
    "        \"AvgSalesPriceChange\": \"% ændring i gennemsnitlig pris pr. m²\",\n",
    "    },\n",
    ")\n",
    "\n",
    "# Adjust the Y-axis font size to fit the labels\n",
    "fig.update_layout(\n",
    "    margin=dict(l=120),  # Increase margin to accommodate longer text labels\n",
    "    yaxis=dict(\n",
    "        tickfont=dict(size=10),  # Reduce the font size of the Y-axis labels\n",
    "    ),\n",
    ")\n",
    "\n",
    "fig\n",
    "\n",
    "# Export to a standalone HTML file\n",
    "html_str = pio.to_html(fig, full_html=False, include_plotlyjs=\"cdn\")\n",
    "with open(\"Charts/Figure1_DK.html\", \"w\", encoding=\"utf-8\") as f:\n",
    "    f.write(html_str)\n",
    "\n",
    "# Exporting as a PNG file (requires the \"kaleido\" package)\n",
    "# fig.write_image(\"Charts/Figure1_DK.png\")\n",
    "\n",
    "# Previewing\n",
    "fig"
   ]
  },
  {
   "cell_type": "markdown",
   "id": "ebd48bef",
   "metadata": {},
   "source": [
    "## Figure 2"
   ]
  },
  {
   "cell_type": "code",
   "execution_count": 44,
   "id": "8a09d3a5",
   "metadata": {},
   "outputs": [],
   "source": [
    "# Setting user parameters\n",
    "n_mncp_to_show = 15\n",
    "price_types = [\"Actual price\"]\n",
    "# chart_title = f\"The {n_mncp_to_show} most expensive municipalities for buying a flat in {max_hist}\""
   ]
  },
  {
   "cell_type": "code",
   "execution_count": 45,
   "id": "df1f7b1c",
   "metadata": {},
   "outputs": [],
   "source": [
    "# Filtering the data and sorting in the appropriate order\n",
    "data_for_plot = sales_data[sales_data[\"Year\"] == max_hist].copy()\n",
    "data_for_plot = data_for_plot[\n",
    "    data_for_plot[\"Municipality\"] != \"National average\"\n",
    "].copy()\n",
    "data_for_plot.sort_values(\"AvgSalesPrice\", ascending=False, inplace=True)\n",
    "data_for_plot.reset_index(inplace=True, drop=True)\n",
    "data_for_plot = data_for_plot[:n_mncp_to_show].copy()\n",
    "data_for_plot.sort_values(\"AvgSalesPrice\", inplace=True)"
   ]
  },
  {
   "cell_type": "markdown",
   "id": "322c79e6",
   "metadata": {},
   "source": [
    "### English"
   ]
  },
  {
   "cell_type": "code",
   "execution_count": 46,
   "id": "4bbc750c",
   "metadata": {},
   "outputs": [
    {
     "data": {
      "application/vnd.plotly.v1+json": {
       "config": {
        "plotlyServerURL": "https://plot.ly"
       },
       "data": [
        {
         "alignmentgroup": "True",
         "hovertemplate": "Average sales price per m²=%{x}<br>Municipality=%{y}<extra></extra>",
         "legendgroup": "",
         "marker": {
          "color": "#1ea2b5",
          "pattern": {
           "shape": ""
          }
         },
         "name": "",
         "offsetgroup": "",
         "orientation": "h",
         "showlegend": false,
         "textposition": "auto",
         "type": "bar",
         "x": [
          30098.14921872071,
          30411.60606060606,
          30629.65338645418,
          31815.847826086956,
          31922.688846583012,
          32655.458333333332,
          34180.3876983867,
          36955.44827586207,
          37130.123750960796,
          37278.70760233918,
          40555,
          43378.39663865546,
          45451,
          51678.38170347003,
          66554.11877394636
         ],
         "xaxis": "x",
         "y": [
          "Stevns",
          "Ballerup",
          "Brøndby",
          "Greve",
          "Skanderborg",
          "Gladsaxe",
          "Vejen",
          "Rudersdal",
          "Aarhus",
          "Lyngby-Taarbæk",
          "Dragør",
          "Gentofte",
          "Hørsholm",
          "København",
          "Frederiksberg"
         ],
         "yaxis": "y"
        }
       ],
       "layout": {
        "barmode": "relative",
        "legend": {
         "tracegroupgap": 0
        },
        "margin": {
         "l": 120,
         "t": 60
        },
        "template": {
         "layout": {
          "colorway": [
           "#1ea2b5",
           "#324b4f",
           "#95b0b5",
           "#9f8ac3",
           "#6b588d"
          ]
         }
        },
        "xaxis": {
         "anchor": "y",
         "domain": [
          0,
          1
         ],
         "title": {
          "text": "Average sales price per m²"
         }
        },
        "yaxis": {
         "anchor": "x",
         "domain": [
          0,
          1
         ],
         "tickfont": {
          "size": 10
         },
         "title": {
          "text": "Municipality"
         }
        }
       }
      }
     },
     "metadata": {},
     "output_type": "display_data"
    }
   ],
   "source": [
    "# Plotting the data on a chart\n",
    "fig = px.bar(\n",
    "    data_for_plot,\n",
    "    x=\"AvgSalesPrice\",\n",
    "    y=\"Municipality\",\n",
    "    orientation=\"h\",\n",
    "    # title=f\"Top {n_mncp_to_show} most expensive municipalities in {max_hist}\",\n",
    "    labels={\n",
    "        \"Municipality\": \"Municipality\",\n",
    "        \"AvgSalesPrice\": \"Average sales price per m²\",\n",
    "    },\n",
    ")\n",
    "\n",
    "# Adjust the Y-axis font size to fit the labels\n",
    "fig.update_layout(\n",
    "    margin=dict(l=120),  # Increase margin to accommodate longer text labels\n",
    "    yaxis=dict(\n",
    "        tickfont=dict(size=10),  # Reduce the font size of the Y-axis labels\n",
    "    ),\n",
    ")\n",
    "\n",
    "# Export to a standalone HTML file\n",
    "html_str = pio.to_html(fig, full_html=False, include_plotlyjs=\"cdn\")\n",
    "with open(\"Charts/Figure2_EN.html\", \"w\", encoding=\"utf-8\") as f:\n",
    "    f.write(html_str)\n",
    "\n",
    "# Exporting as a PNG file\n",
    "# fig.write_image(\"Charts/Figure2_EN.png\")\n",
    "\n",
    "# Previewing\n",
    "fig"
   ]
  },
  {
   "cell_type": "markdown",
   "id": "66da8af6",
   "metadata": {},
   "source": [
    "### Danish"
   ]
  },
  {
   "cell_type": "code",
   "execution_count": 47,
   "id": "a70e7e66",
   "metadata": {},
   "outputs": [
    {
     "data": {
      "application/vnd.plotly.v1+json": {
       "config": {
        "plotlyServerURL": "https://plot.ly"
       },
       "data": [
        {
         "alignmentgroup": "True",
         "hovertemplate": "Gennemsnitlig salgspris pr. m²=%{x}<br>Kommune=%{y}<extra></extra>",
         "legendgroup": "",
         "marker": {
          "color": "#1ea2b5",
          "pattern": {
           "shape": ""
          }
         },
         "name": "",
         "offsetgroup": "",
         "orientation": "h",
         "showlegend": false,
         "textposition": "auto",
         "type": "bar",
         "x": [
          30098.14921872071,
          30411.60606060606,
          30629.65338645418,
          31815.847826086956,
          31922.688846583012,
          32655.458333333332,
          34180.3876983867,
          36955.44827586207,
          37130.123750960796,
          37278.70760233918,
          40555,
          43378.39663865546,
          45451,
          51678.38170347003,
          66554.11877394636
         ],
         "xaxis": "x",
         "y": [
          "Stevns",
          "Ballerup",
          "Brøndby",
          "Greve",
          "Skanderborg",
          "Gladsaxe",
          "Vejen",
          "Rudersdal",
          "Aarhus",
          "Lyngby-Taarbæk",
          "Dragør",
          "Gentofte",
          "Hørsholm",
          "København",
          "Frederiksberg"
         ],
         "yaxis": "y"
        }
       ],
       "layout": {
        "barmode": "relative",
        "legend": {
         "tracegroupgap": 0
        },
        "margin": {
         "l": 120,
         "t": 60
        },
        "template": {
         "layout": {
          "colorway": [
           "#1ea2b5",
           "#324b4f",
           "#95b0b5",
           "#9f8ac3",
           "#6b588d"
          ]
         }
        },
        "xaxis": {
         "anchor": "y",
         "domain": [
          0,
          1
         ],
         "title": {
          "text": "Gennemsnitlig salgspris pr. m²"
         }
        },
        "yaxis": {
         "anchor": "x",
         "domain": [
          0,
          1
         ],
         "tickfont": {
          "size": 10
         },
         "title": {
          "text": "Kommune"
         }
        }
       }
      }
     },
     "metadata": {},
     "output_type": "display_data"
    }
   ],
   "source": [
    "# Plotting the data on a chart\n",
    "fig = px.bar(\n",
    "    data_for_plot,\n",
    "    x=\"AvgSalesPrice\",\n",
    "    y=\"Municipality\",\n",
    "    orientation=\"h\",\n",
    "    # title=f\"Top {n_mncp_to_show} dyreste kommuner i {max_hist}\",\n",
    "    labels={\n",
    "        \"Municipality\": \"Kommune\",\n",
    "        \"AvgSalesPrice\": \"Gennemsnitlig salgspris pr. m²\",\n",
    "    },\n",
    ")\n",
    "\n",
    "# Adjust the Y-axis font size to fit the labels\n",
    "fig.update_layout(\n",
    "    margin=dict(l=120),  # Increase margin to accommodate longer text labels\n",
    "    yaxis=dict(\n",
    "        tickfont=dict(size=10),  # Reduce the font size of the Y-axis labels\n",
    "    ),\n",
    ")\n",
    "\n",
    "# Export to a standalone HTML file\n",
    "html_str = pio.to_html(fig, full_html=False, include_plotlyjs=\"cdn\")\n",
    "with open(\"Charts/Figure2_DK.html\", \"w\", encoding=\"utf-8\") as f:\n",
    "    f.write(html_str)\n",
    "\n",
    "# Exporting as a PNG file\n",
    "# fig.write_image(\"Charts/Figure2_DK.png\")\n",
    "\n",
    "# Previewing\n",
    "fig"
   ]
  },
  {
   "cell_type": "markdown",
   "id": "734f56f1",
   "metadata": {},
   "source": [
    "## Figure 3"
   ]
  },
  {
   "cell_type": "code",
   "execution_count": 48,
   "id": "ad3d8dea",
   "metadata": {},
   "outputs": [],
   "source": [
    "# Setting user parameters\n",
    "price_types = [\"Actual price\"]\n",
    "# chart_title_en = (\n",
    "#     \"Indexed sales price, national disposable income and national GDP over time\"\n",
    "# )\n",
    "# chart_title_dk = (\n",
    "#     \"Indekseret salgspris, national disponibel indkomst og national BNP over tid\"\n",
    "# )"
   ]
  },
  {
   "cell_type": "code",
   "execution_count": 49,
   "id": "118b9be6",
   "metadata": {},
   "outputs": [],
   "source": [
    "# Preparing data for chart\n",
    "data_to_display = indexed_development[\n",
    "    indexed_development[\"Municipality\"] == \"National average\"\n",
    "]\n",
    "data_to_display = data_to_display[data_to_display[\"PriceType\"].isin(price_types)].copy()\n",
    "\n",
    "# Sorting and cleaning up\n",
    "data_to_display.sort_values(\"Year\", ascending=False, inplace=True)\n",
    "data_to_display.reset_index(inplace=True, drop=True)\n",
    "\n",
    "# Rounding all relevant metrics off to 2 decimals\n",
    "for metric in [\n",
    "    \"AvgSalesPriceIdx\",\n",
    "    \"AvgDispIncomeIdx\",\n",
    "    \"GDPIdx\",\n",
    "]:\n",
    "    data_to_display[metric] = np.round(data_to_display[metric], 2)\n",
    "\n",
    "# Converting the data to the long format before plotting\n",
    "value_vars = [\"AvgSalesPriceIdx\", \"AvgDispIncomeIdx\", \"GDPIdx\"]\n",
    "vars_mapping = {\n",
    "    \"AvgSalesPriceIdx\": \"Average sales price (indexed)\",\n",
    "    \"AvgDispIncomeIdx\": \"Average disposable income (indexed)\",\n",
    "    \"GDPIdx\": \"GDP (indexed)\",\n",
    "}\n",
    "data_to_display = pd.melt(\n",
    "    data_to_display,\n",
    "    id_vars=\"Year\",\n",
    "    value_vars=value_vars,\n",
    "    var_name=\"Indicator\",\n",
    "    value_name=\"Index\",\n",
    ")\n",
    "data_to_display[\"Indicator\"] = data_to_display[\"Indicator\"].map(vars_mapping)"
   ]
  },
  {
   "cell_type": "markdown",
   "id": "7cf99292",
   "metadata": {},
   "source": [
    "### English"
   ]
  },
  {
   "cell_type": "code",
   "execution_count": 50,
   "id": "8ba04d9a",
   "metadata": {},
   "outputs": [
    {
     "data": {
      "application/vnd.plotly.v1+json": {
       "config": {
        "plotlyServerURL": "https://plot.ly"
       },
       "data": [
        {
         "hovertemplate": "Indicator=Average sales price (indexed)<br>Year=%{x}<br>Index=%{y}<extra></extra>",
         "legendgroup": "Average sales price (indexed)",
         "line": {
          "color": "#1ea2b5",
          "dash": "solid"
         },
         "marker": {
          "symbol": "circle"
         },
         "mode": "lines",
         "name": "Average sales price (indexed)",
         "orientation": "v",
         "showlegend": true,
         "textposition": "top center",
         "type": "scatter",
         "x": [
          2024,
          2023,
          2022,
          2021,
          2020,
          2019,
          2018,
          2017,
          2016,
          2015,
          2014,
          2013,
          2012,
          2011,
          2010,
          2009,
          2008,
          2007,
          2006,
          2005,
          2004,
          2003,
          2002,
          2001,
          2000,
          1999,
          1998,
          1997,
          1996,
          1995,
          1994,
          1993,
          1992
         ],
         "xaxis": "x",
         "y": [
          4.6,
          4.18,
          4.21,
          4,
          3.67,
          3.54,
          3.41,
          3.3,
          3.16,
          2.92,
          2.76,
          2.69,
          2.71,
          2.64,
          2.74,
          2.8,
          3.14,
          3.31,
          3.23,
          2.8,
          2.35,
          2.16,
          2,
          1.87,
          1.72,
          1.58,
          1.42,
          1.29,
          1.16,
          1.06,
          1.03,
          0.99,
          1
         ],
         "yaxis": "y"
        },
        {
         "hovertemplate": "Indicator=Average disposable income (indexed)<br>Year=%{x}<br>Index=%{y}<extra></extra>",
         "legendgroup": "Average disposable income (indexed)",
         "line": {
          "color": "#324b4f",
          "dash": "solid"
         },
         "marker": {
          "symbol": "circle"
         },
         "mode": "lines",
         "name": "Average disposable income (indexed)",
         "orientation": "v",
         "showlegend": true,
         "textposition": "top center",
         "type": "scatter",
         "x": [
          2024,
          2023,
          2022,
          2021,
          2020,
          2019,
          2018,
          2017,
          2016,
          2015,
          2014,
          2013,
          2012,
          2011,
          2010,
          2009,
          2008,
          2007,
          2006,
          2005,
          2004,
          2003,
          2002,
          2001,
          2000,
          1999,
          1998,
          1997,
          1996,
          1995,
          1994,
          1993,
          1992
         ],
         "xaxis": "x",
         "y": [
          3.09,
          2.84,
          2.71,
          2.71,
          2.59,
          2.47,
          2.39,
          2.34,
          2.27,
          2.24,
          2.18,
          2.14,
          2.08,
          2.03,
          1.99,
          1.82,
          1.8,
          1.82,
          1.77,
          1.71,
          1.64,
          1.55,
          1.51,
          1.46,
          1.41,
          1.35,
          1.31,
          1.26,
          1.21,
          1.16,
          1.11,
          1.03,
          1
         ],
         "yaxis": "y"
        },
        {
         "hovertemplate": "Indicator=GDP (indexed)<br>Year=%{x}<br>Index=%{y}<extra></extra>",
         "legendgroup": "GDP (indexed)",
         "line": {
          "color": "#95b0b5",
          "dash": "solid"
         },
         "marker": {
          "symbol": "circle"
         },
         "mode": "lines",
         "name": "GDP (indexed)",
         "orientation": "v",
         "showlegend": true,
         "textposition": "top center",
         "type": "scatter",
         "x": [
          2024,
          2023,
          2022,
          2021,
          2020,
          2019,
          2018,
          2017,
          2016,
          2015,
          2014,
          2013,
          2012,
          2011,
          2010,
          2009,
          2008,
          2007,
          2006,
          2005,
          2004,
          2003,
          2002,
          2001,
          2000,
          1999,
          1998,
          1997,
          1996,
          1995,
          1994,
          1993,
          1992
         ],
         "xaxis": "x",
         "y": [
          3.21,
          3.04,
          3.08,
          2.78,
          2.52,
          2.49,
          2.43,
          2.37,
          2.28,
          2.2,
          2.14,
          2.1,
          2.05,
          2,
          1.96,
          1.87,
          1.96,
          1.89,
          1.83,
          1.72,
          1.64,
          1.56,
          1.53,
          1.49,
          1.44,
          1.34,
          1.28,
          1.24,
          1.18,
          1.12,
          1.07,
          1,
          1
         ],
         "yaxis": "y"
        }
       ],
       "layout": {
        "legend": {
         "bgcolor": "rgba(255, 255, 255, 0.5)",
         "title": {
          "text": "Indicator"
         },
         "tracegroupgap": 0,
         "x": 0.5,
         "xanchor": "center",
         "y": 1.1,
         "yanchor": "bottom"
        },
        "margin": {
         "t": 60
        },
        "template": {
         "layout": {
          "colorway": [
           "#1ea2b5",
           "#324b4f",
           "#95b0b5",
           "#9f8ac3",
           "#6b588d"
          ]
         }
        },
        "xaxis": {
         "anchor": "y",
         "domain": [
          0,
          1
         ],
         "title": {
          "text": "Year"
         }
        },
        "yaxis": {
         "anchor": "x",
         "domain": [
          0,
          1
         ],
         "title": {
          "text": "Index"
         }
        }
       }
      }
     },
     "metadata": {},
     "output_type": "display_data"
    }
   ],
   "source": [
    "# Plotting the data on a chart\n",
    "fig = px.line(\n",
    "    data_to_display,\n",
    "    x=\"Year\",\n",
    "    y=\"Index\",\n",
    "    color=\"Indicator\",\n",
    ")\n",
    "# fig.update_layout({\"title\": chart_title_en})\n",
    "fig.update_traces(textposition=\"top center\")\n",
    "\n",
    "# Customize the layout to position the legend in the middle on top\n",
    "fig.update_layout(\n",
    "    legend=dict(\n",
    "        x=0.5,  # Position along the x-axis (0.5 is the center)\n",
    "        y=1.1,  # Position above the plot area (greater than 1 to move it above)\n",
    "        xanchor=\"center\",  # Center the legend horizontally\n",
    "        yanchor=\"bottom\",  # Align the bottom of the legend to the y=1.1 position\n",
    "        bgcolor=\"rgba(255, 255, 255, 0.5)\",  # Transparent background for the legend\n",
    "    ),\n",
    ")\n",
    "\n",
    "# Export to a standalone HTML file\n",
    "html_str = pio.to_html(fig, full_html=False, include_plotlyjs=\"cdn\")\n",
    "with open(\"Charts/Figure3_EN.html\", \"w\", encoding=\"utf-8\") as f:\n",
    "    f.write(html_str)\n",
    "\n",
    "# Exporting as a PNG file\n",
    "# fig.write_image(\"Charts/Figure3_EN.png\")\n",
    "\n",
    "# Previewing\n",
    "fig"
   ]
  },
  {
   "cell_type": "markdown",
   "id": "6fa47f41",
   "metadata": {},
   "source": [
    "### Danish"
   ]
  },
  {
   "cell_type": "code",
   "execution_count": 51,
   "id": "6a915454",
   "metadata": {},
   "outputs": [
    {
     "data": {
      "application/vnd.plotly.v1+json": {
       "config": {
        "plotlyServerURL": "https://plot.ly"
       },
       "data": [
        {
         "hovertemplate": "Indikator=Gns. salgspris (indekseret)<br>År=%{x}<br>Indeks=%{y}<extra></extra>",
         "legendgroup": "Gns. salgspris (indekseret)",
         "line": {
          "color": "#1ea2b5",
          "dash": "solid"
         },
         "marker": {
          "symbol": "circle"
         },
         "mode": "lines",
         "name": "Gns. salgspris (indekseret)",
         "orientation": "v",
         "showlegend": true,
         "textposition": "top center",
         "type": "scatter",
         "x": [
          2024,
          2023,
          2022,
          2021,
          2020,
          2019,
          2018,
          2017,
          2016,
          2015,
          2014,
          2013,
          2012,
          2011,
          2010,
          2009,
          2008,
          2007,
          2006,
          2005,
          2004,
          2003,
          2002,
          2001,
          2000,
          1999,
          1998,
          1997,
          1996,
          1995,
          1994,
          1993,
          1992
         ],
         "xaxis": "x",
         "y": [
          4.6,
          4.18,
          4.21,
          4,
          3.67,
          3.54,
          3.41,
          3.3,
          3.16,
          2.92,
          2.76,
          2.69,
          2.71,
          2.64,
          2.74,
          2.8,
          3.14,
          3.31,
          3.23,
          2.8,
          2.35,
          2.16,
          2,
          1.87,
          1.72,
          1.58,
          1.42,
          1.29,
          1.16,
          1.06,
          1.03,
          0.99,
          1
         ],
         "yaxis": "y"
        },
        {
         "hovertemplate": "Indikator=Gns. disponibel indkomst (indekseret)<br>År=%{x}<br>Indeks=%{y}<extra></extra>",
         "legendgroup": "Gns. disponibel indkomst (indekseret)",
         "line": {
          "color": "#324b4f",
          "dash": "solid"
         },
         "marker": {
          "symbol": "circle"
         },
         "mode": "lines",
         "name": "Gns. disponibel indkomst (indekseret)",
         "orientation": "v",
         "showlegend": true,
         "textposition": "top center",
         "type": "scatter",
         "x": [
          2024,
          2023,
          2022,
          2021,
          2020,
          2019,
          2018,
          2017,
          2016,
          2015,
          2014,
          2013,
          2012,
          2011,
          2010,
          2009,
          2008,
          2007,
          2006,
          2005,
          2004,
          2003,
          2002,
          2001,
          2000,
          1999,
          1998,
          1997,
          1996,
          1995,
          1994,
          1993,
          1992
         ],
         "xaxis": "x",
         "y": [
          3.09,
          2.84,
          2.71,
          2.71,
          2.59,
          2.47,
          2.39,
          2.34,
          2.27,
          2.24,
          2.18,
          2.14,
          2.08,
          2.03,
          1.99,
          1.82,
          1.8,
          1.82,
          1.77,
          1.71,
          1.64,
          1.55,
          1.51,
          1.46,
          1.41,
          1.35,
          1.31,
          1.26,
          1.21,
          1.16,
          1.11,
          1.03,
          1
         ],
         "yaxis": "y"
        },
        {
         "hovertemplate": "Indikator=BNP (indekseret)<br>År=%{x}<br>Indeks=%{y}<extra></extra>",
         "legendgroup": "BNP (indekseret)",
         "line": {
          "color": "#95b0b5",
          "dash": "solid"
         },
         "marker": {
          "symbol": "circle"
         },
         "mode": "lines",
         "name": "BNP (indekseret)",
         "orientation": "v",
         "showlegend": true,
         "textposition": "top center",
         "type": "scatter",
         "x": [
          2024,
          2023,
          2022,
          2021,
          2020,
          2019,
          2018,
          2017,
          2016,
          2015,
          2014,
          2013,
          2012,
          2011,
          2010,
          2009,
          2008,
          2007,
          2006,
          2005,
          2004,
          2003,
          2002,
          2001,
          2000,
          1999,
          1998,
          1997,
          1996,
          1995,
          1994,
          1993,
          1992
         ],
         "xaxis": "x",
         "y": [
          3.21,
          3.04,
          3.08,
          2.78,
          2.52,
          2.49,
          2.43,
          2.37,
          2.28,
          2.2,
          2.14,
          2.1,
          2.05,
          2,
          1.96,
          1.87,
          1.96,
          1.89,
          1.83,
          1.72,
          1.64,
          1.56,
          1.53,
          1.49,
          1.44,
          1.34,
          1.28,
          1.24,
          1.18,
          1.12,
          1.07,
          1,
          1
         ],
         "yaxis": "y"
        }
       ],
       "layout": {
        "legend": {
         "bgcolor": "rgba(255, 255, 255, 0.5)",
         "title": {
          "text": "Indikator"
         },
         "tracegroupgap": 0,
         "x": 0.5,
         "xanchor": "center",
         "y": 1.1,
         "yanchor": "bottom"
        },
        "margin": {
         "t": 60
        },
        "template": {
         "layout": {
          "colorway": [
           "#1ea2b5",
           "#324b4f",
           "#95b0b5",
           "#9f8ac3",
           "#6b588d"
          ]
         }
        },
        "xaxis": {
         "anchor": "y",
         "domain": [
          0,
          1
         ],
         "title": {
          "text": "År"
         }
        },
        "yaxis": {
         "anchor": "x",
         "domain": [
          0,
          1
         ],
         "title": {
          "text": "Indeks"
         }
        }
       }
      }
     },
     "metadata": {},
     "output_type": "display_data"
    }
   ],
   "source": [
    "# Renaming labels for chart\n",
    "translations = {\n",
    "    \"Average sales price (indexed)\": \"Gns. salgspris (indekseret)\",\n",
    "    \"Average disposable income (indexed)\": \"Gns. disponibel indkomst (indekseret)\",\n",
    "    \"GDP (indexed)\": \"BNP (indekseret)\",\n",
    "    \"Year\": \"År\",\n",
    "    \"Index\": \"Indeks\",\n",
    "    \"Indicator\": \"Indikator\",\n",
    "}\n",
    "data_to_display[\"Indicator\"] = data_to_display[\"Indicator\"].map(translations)\n",
    "data_to_display = data_to_display.rename(columns=translations)\n",
    "\n",
    "# Plotting the data on a chart\n",
    "fig = px.line(\n",
    "    data_to_display,\n",
    "    x=\"År\",\n",
    "    y=\"Indeks\",\n",
    "    color=\"Indikator\",\n",
    ")\n",
    "# fig.update_layout({\"title\": chart_title_dk})\n",
    "fig.update_traces(textposition=\"top center\")\n",
    "\n",
    "# Customize the layout to position the legend in the middle on top\n",
    "fig.update_layout(\n",
    "    legend=dict(\n",
    "        x=0.5,  # Position along the x-axis (0.5 is the center)\n",
    "        y=1.1,  # Position above the plot area (greater than 1 to move it above)\n",
    "        xanchor=\"center\",  # Center the legend horizontally\n",
    "        yanchor=\"bottom\",  # Align the bottom of the legend to the y=1.1 position\n",
    "        bgcolor=\"rgba(255, 255, 255, 0.5)\",  # Transparent background for the legend\n",
    "    ),\n",
    ")\n",
    "\n",
    "# Export to a standalone HTML file\n",
    "html_str = pio.to_html(fig, full_html=False, include_plotlyjs=\"cdn\")\n",
    "with open(\"Charts/Figure3_DK.html\", \"w\", encoding=\"utf-8\") as f:\n",
    "    f.write(html_str)\n",
    "\n",
    "# Exporting as a PNG file\n",
    "# fig.write_image(\"Charts/Figure3_DK.png\")\n",
    "\n",
    "# Previewing\n",
    "fig"
   ]
  },
  {
   "cell_type": "markdown",
   "id": "dabb28ec",
   "metadata": {},
   "source": [
    "## Figure 4"
   ]
  },
  {
   "cell_type": "code",
   "execution_count": 52,
   "id": "ec2d9c94",
   "metadata": {},
   "outputs": [],
   "source": [
    "# Creating the chart\n",
    "selected_locations = [\"National average\"]\n",
    "# chart_title_en = (\n",
    "#     \"Number of m² that can be bought with annual disposable income (national average)\"\n",
    "# )\n",
    "# chart_title_dk = (\n",
    "#     \"Antal m² som kan købes med en årlig disponibel indkomst (national gennemsnit)\"\n",
    "# )"
   ]
  },
  {
   "cell_type": "markdown",
   "id": "74f01b00",
   "metadata": {},
   "source": [
    "### English"
   ]
  },
  {
   "cell_type": "code",
   "execution_count": 53,
   "id": "ad301dbc",
   "metadata": {},
   "outputs": [
    {
     "data": {
      "application/vnd.plotly.v1+json": {
       "config": {
        "plotlyServerURL": "https://plot.ly"
       },
       "data": [
        {
         "hovertemplate": "Year=%{x}<br>m² buyable with annual disposable income=%{y}<extra></extra>",
         "legendgroup": "",
         "line": {
          "color": "#1ea2b5",
          "dash": "solid"
         },
         "marker": {
          "symbol": "circle"
         },
         "mode": "lines",
         "name": "",
         "orientation": "v",
         "showlegend": false,
         "textposition": "top center",
         "type": "scatter",
         "x": [
          2024,
          2023,
          2022,
          2021,
          2020,
          2019,
          2018,
          2017,
          2016,
          2015,
          2014,
          2013,
          2012,
          2011,
          2010,
          2009,
          2008,
          2007,
          2006,
          2005,
          2004,
          2003,
          2002,
          2001,
          2000,
          1999,
          1998,
          1997,
          1996,
          1995,
          1994,
          1993,
          1992
         ],
         "xaxis": "x",
         "y": [
          12.52,
          12.65,
          11.98,
          12.64,
          13.11,
          13.02,
          13.06,
          13.22,
          13.41,
          14.27,
          14.74,
          14.81,
          14.31,
          14.3,
          13.5,
          12.11,
          10.65,
          10.23,
          10.23,
          11.36,
          12.99,
          13.38,
          14.02,
          14.51,
          15.2,
          15.96,
          17.16,
          18.23,
          19.45,
          20.33,
          19.96,
          19.37,
          18.62
         ],
         "yaxis": "y"
        }
       ],
       "layout": {
        "legend": {
         "bgcolor": "rgba(255, 255, 255, 0.5)",
         "tracegroupgap": 0,
         "x": 0.5,
         "xanchor": "center",
         "y": 1.1,
         "yanchor": "bottom"
        },
        "margin": {
         "t": 60
        },
        "template": {
         "layout": {
          "colorway": [
           "#1ea2b5",
           "#324b4f",
           "#95b0b5",
           "#9f8ac3",
           "#6b588d"
          ]
         }
        },
        "xaxis": {
         "anchor": "y",
         "domain": [
          0,
          1
         ],
         "title": {
          "text": "Year"
         }
        },
        "yaxis": {
         "anchor": "x",
         "domain": [
          0,
          1
         ],
         "title": {
          "text": "m² buyable with annual disposable income"
         }
        }
       }
      }
     },
     "metadata": {},
     "output_type": "display_data"
    }
   ],
   "source": [
    "fig = plot_price(\n",
    "    sales_data,\n",
    "    \"M2AffordedTotal\",\n",
    "    \"en\",\n",
    "    selected_locations,\n",
    "    [\"Actual price\"],\n",
    ")\n",
    "\n",
    "# Export to a standalone HTML file\n",
    "html_str = pio.to_html(fig, full_html=False, include_plotlyjs=\"cdn\")\n",
    "with open(\"Charts/Figure4_EN.html\", \"w\", encoding=\"utf-8\") as f:\n",
    "    f.write(html_str)\n",
    "\n",
    "# Exporting as a PNG file\n",
    "# fig.write_image(\"Charts/Figure4_EN.png\")\n",
    "\n",
    "# Previewing\n",
    "fig"
   ]
  },
  {
   "cell_type": "markdown",
   "id": "44f59ac0",
   "metadata": {},
   "source": [
    "### Danish"
   ]
  },
  {
   "cell_type": "code",
   "execution_count": 54,
   "id": "e5fab651",
   "metadata": {},
   "outputs": [
    {
     "data": {
      "application/vnd.plotly.v1+json": {
       "config": {
        "plotlyServerURL": "https://plot.ly"
       },
       "data": [
        {
         "hovertemplate": "År=%{x}<br>m² som kan købes med en årlig disponibel indkomst=%{y}<extra></extra>",
         "legendgroup": "",
         "line": {
          "color": "#1ea2b5",
          "dash": "solid"
         },
         "marker": {
          "symbol": "circle"
         },
         "mode": "lines",
         "name": "",
         "orientation": "v",
         "showlegend": false,
         "textposition": "top center",
         "type": "scatter",
         "x": [
          2024,
          2023,
          2022,
          2021,
          2020,
          2019,
          2018,
          2017,
          2016,
          2015,
          2014,
          2013,
          2012,
          2011,
          2010,
          2009,
          2008,
          2007,
          2006,
          2005,
          2004,
          2003,
          2002,
          2001,
          2000,
          1999,
          1998,
          1997,
          1996,
          1995,
          1994,
          1993,
          1992
         ],
         "xaxis": "x",
         "y": [
          12.52,
          12.65,
          11.98,
          12.64,
          13.11,
          13.02,
          13.06,
          13.22,
          13.41,
          14.27,
          14.74,
          14.81,
          14.31,
          14.3,
          13.5,
          12.11,
          10.65,
          10.23,
          10.23,
          11.36,
          12.99,
          13.38,
          14.02,
          14.51,
          15.2,
          15.96,
          17.16,
          18.23,
          19.45,
          20.33,
          19.96,
          19.37,
          18.62
         ],
         "yaxis": "y"
        }
       ],
       "layout": {
        "legend": {
         "bgcolor": "rgba(255, 255, 255, 0.5)",
         "tracegroupgap": 0,
         "x": 0.5,
         "xanchor": "center",
         "y": 1.1,
         "yanchor": "bottom"
        },
        "margin": {
         "t": 60
        },
        "template": {
         "layout": {
          "colorway": [
           "#1ea2b5",
           "#324b4f",
           "#95b0b5",
           "#9f8ac3",
           "#6b588d"
          ]
         }
        },
        "xaxis": {
         "anchor": "y",
         "domain": [
          0,
          1
         ],
         "title": {
          "text": "År"
         }
        },
        "yaxis": {
         "anchor": "x",
         "domain": [
          0,
          1
         ],
         "title": {
          "text": "m² som kan købes med en årlig disponibel indkomst"
         }
        }
       }
      }
     },
     "metadata": {},
     "output_type": "display_data"
    }
   ],
   "source": [
    "fig = plot_price(\n",
    "    sales_data,\n",
    "    \"M2AffordedTotal\",\n",
    "    \"dk\",\n",
    "    selected_locations,\n",
    "    [\"Actual price\"],\n",
    ")\n",
    "\n",
    "# Export to a standalone HTML file\n",
    "html_str = pio.to_html(fig, full_html=False, include_plotlyjs=\"cdn\")\n",
    "with open(\"Charts/Figure4_DK.html\", \"w\", encoding=\"utf-8\") as f:\n",
    "    f.write(html_str)\n",
    "\n",
    "# Exporting as a PNG file\n",
    "# fig.write_image(\"Charts/Figure4_DK.png\")\n",
    "\n",
    "# Previewing\n",
    "fig"
   ]
  },
  {
   "cell_type": "markdown",
   "id": "e1a776d0",
   "metadata": {},
   "source": [
    "## Figure 5"
   ]
  },
  {
   "cell_type": "code",
   "execution_count": 55,
   "id": "ae9316bd",
   "metadata": {},
   "outputs": [],
   "source": [
    "# Creating the chart\n",
    "selected_locations = [\"København\", \"Frederiksberg\", \"Aarhus\", \"Odense\", \"Aalborg\"]\n",
    "# chart_title_en = \"Number of m² that can be bought with average annual disposable income in Denmark's four largest cities\"\n",
    "# chart_title_dk = \"Antal m² som kan købes med en gns. årlig disponibel indkomst i Danmarks fire største byer\""
   ]
  },
  {
   "cell_type": "markdown",
   "id": "f7b93979",
   "metadata": {},
   "source": [
    "### English"
   ]
  },
  {
   "cell_type": "code",
   "execution_count": 56,
   "id": "4207551b",
   "metadata": {},
   "outputs": [
    {
     "data": {
      "application/vnd.plotly.v1+json": {
       "config": {
        "plotlyServerURL": "https://plot.ly"
       },
       "data": [
        {
         "hovertemplate": "Municipality=Odense<br>Year=%{x}<br>m² buyable with annual disposable income=%{y}<extra></extra>",
         "legendgroup": "Odense",
         "line": {
          "color": "#1ea2b5",
          "dash": "solid"
         },
         "marker": {
          "symbol": "circle"
         },
         "mode": "lines",
         "name": "Odense",
         "orientation": "v",
         "showlegend": true,
         "textposition": "top center",
         "type": "scatter",
         "x": [
          2024,
          2023,
          2022,
          2021,
          2020,
          2019,
          2018,
          2017,
          2016,
          2015,
          2014,
          2013,
          2012,
          2011,
          2010,
          2009,
          2008,
          2007,
          2006,
          2005,
          2004,
          2003,
          2002,
          2001,
          2000,
          1999,
          1998,
          1997,
          1996,
          1995,
          1994,
          1993,
          1992
         ],
         "xaxis": "x",
         "y": [
          11.88,
          11.03,
          10.18,
          9.9,
          9.82,
          9.81,
          10.39,
          11.17,
          11.65,
          12.2,
          12.61,
          13.38,
          13.54,
          13.56,
          12.47,
          11.87,
          10.61,
          9.92,
          10.01,
          12.4,
          14.06,
          16.34,
          16.41,
          16.16,
          15.69,
          15.69,
          15.83,
          17.45,
          18.75,
          19.11,
          19.52,
          19.15,
          16.85
         ],
         "yaxis": "y"
        },
        {
         "hovertemplate": "Municipality=København<br>Year=%{x}<br>m² buyable with annual disposable income=%{y}<extra></extra>",
         "legendgroup": "København",
         "line": {
          "color": "#324b4f",
          "dash": "solid"
         },
         "marker": {
          "symbol": "circle"
         },
         "mode": "lines",
         "name": "København",
         "orientation": "v",
         "showlegend": true,
         "textposition": "top center",
         "type": "scatter",
         "x": [
          2024,
          2023,
          2022,
          2021,
          2020,
          2019,
          2018,
          2017,
          2016,
          2015,
          2014,
          2013,
          2012,
          2011,
          2010,
          2009,
          2008,
          2007,
          2006,
          2005,
          2004,
          2003,
          2002,
          2001,
          2000,
          1999,
          1998,
          1997,
          1996,
          1995,
          1994,
          1993,
          1992
         ],
         "xaxis": "x",
         "y": [
          5.75,
          5.79,
          5.31,
          5.39,
          5.83,
          5.94,
          5.75,
          5.87,
          6.33,
          6.78,
          7.39,
          7.67,
          8.45,
          8.19,
          7.9,
          8.15,
          6.86,
          6.03,
          5.24,
          6.03,
          7.56,
          8.16,
          8.41,
          8.85,
          10.04,
          10.93,
          12.62,
          14.32,
          16.13,
          17.41,
          17.24,
          16,
          14.82
         ],
         "yaxis": "y"
        },
        {
         "hovertemplate": "Municipality=Aalborg<br>Year=%{x}<br>m² buyable with annual disposable income=%{y}<extra></extra>",
         "legendgroup": "Aalborg",
         "line": {
          "color": "#95b0b5",
          "dash": "solid"
         },
         "marker": {
          "symbol": "circle"
         },
         "mode": "lines",
         "name": "Aalborg",
         "orientation": "v",
         "showlegend": true,
         "textposition": "top center",
         "type": "scatter",
         "x": [
          2024,
          2023,
          2022,
          2021,
          2020,
          2019,
          2018,
          2017,
          2016,
          2015,
          2014,
          2013,
          2012,
          2011,
          2010,
          2009,
          2008,
          2007,
          2006,
          2005,
          2004,
          2003,
          2002,
          2001,
          2000,
          1999,
          1998,
          1997,
          1996,
          1995,
          1994,
          1993,
          1992
         ],
         "xaxis": "x",
         "y": [
          13.7,
          12.75,
          11.8,
          11.74,
          11.7,
          11.22,
          10.73,
          10.52,
          11.14,
          12.14,
          13.13,
          13.47,
          14.16,
          14.06,
          13.83,
          13.01,
          11.97,
          11.25,
          11.52,
          12.84,
          14.33,
          15.76,
          15.62,
          15.4,
          15.13,
          15.11,
          16.66,
          18.31,
          20.75,
          21.46,
          20.88,
          20.37,
          20.38
         ],
         "yaxis": "y"
        },
        {
         "hovertemplate": "Municipality=Aarhus<br>Year=%{x}<br>m² buyable with annual disposable income=%{y}<extra></extra>",
         "legendgroup": "Aarhus",
         "line": {
          "color": "#9f8ac3",
          "dash": "solid"
         },
         "marker": {
          "symbol": "circle"
         },
         "mode": "lines",
         "name": "Aarhus",
         "orientation": "v",
         "showlegend": true,
         "textposition": "top center",
         "type": "scatter",
         "x": [
          2024,
          2023,
          2022,
          2021,
          2020,
          2019,
          2018,
          2017,
          2016,
          2015,
          2014,
          2013,
          2012,
          2011,
          2010,
          2009,
          2008,
          2007,
          2006,
          2005,
          2004,
          2003,
          2002,
          2001,
          2000,
          1999,
          1998,
          1997,
          1996,
          1995,
          1994,
          1993,
          1992
         ],
         "xaxis": "x",
         "y": [
          8.07,
          7.38,
          6.88,
          7.02,
          7.42,
          7.48,
          7.26,
          7.41,
          7.53,
          7.98,
          8.4,
          8.62,
          8.73,
          8.38,
          8.38,
          8.55,
          7.48,
          7.02,
          6.26,
          7.24,
          8.6,
          11.17,
          11.36,
          11.61,
          11.13,
          11.29,
          11.62,
          12.64,
          13.72,
          15.07,
          14.62,
          14.78,
          13.76
         ],
         "yaxis": "y"
        },
        {
         "hovertemplate": "Municipality=Frederiksberg<br>Year=%{x}<br>m² buyable with annual disposable income=%{y}<extra></extra>",
         "legendgroup": "Frederiksberg",
         "line": {
          "color": "#6b588d",
          "dash": "solid"
         },
         "marker": {
          "symbol": "circle"
         },
         "mode": "lines",
         "name": "Frederiksberg",
         "orientation": "v",
         "showlegend": true,
         "textposition": "top center",
         "type": "scatter",
         "x": [
          2024,
          2023,
          2022,
          2021,
          2020,
          2019,
          2018,
          2017,
          2016,
          2015,
          2014,
          2013,
          2012,
          2011,
          2010,
          2009,
          2008,
          2007,
          2006,
          2005,
          2004,
          2003,
          2002,
          2001,
          2000,
          1999,
          1998,
          1997,
          1996,
          1995,
          1994,
          1993,
          1992
         ],
         "xaxis": "x",
         "y": [
          5.38,
          5.31,
          4.86,
          5.21,
          5.73,
          5.9,
          5.68,
          5.74,
          6.01,
          6.22,
          6.88,
          7.26,
          7.97,
          7.93,
          8.03,
          8.16,
          7.09,
          6.33,
          5.83,
          6.67,
          8.66,
          9.16,
          9.28,
          9.78,
          10.7,
          11.2,
          12.53,
          13.71,
          15.71,
          16.98,
          17.33,
          17.11,
          16.28
         ],
         "yaxis": "y"
        }
       ],
       "layout": {
        "legend": {
         "bgcolor": "rgba(255, 255, 255, 0.5)",
         "title": {
          "text": "Municipality"
         },
         "tracegroupgap": 0,
         "x": 0.5,
         "xanchor": "center",
         "y": 1.1,
         "yanchor": "bottom"
        },
        "margin": {
         "t": 60
        },
        "template": {
         "layout": {
          "colorway": [
           "#1ea2b5",
           "#324b4f",
           "#95b0b5",
           "#9f8ac3",
           "#6b588d"
          ]
         }
        },
        "xaxis": {
         "anchor": "y",
         "domain": [
          0,
          1
         ],
         "title": {
          "text": "Year"
         }
        },
        "yaxis": {
         "anchor": "x",
         "domain": [
          0,
          1
         ],
         "title": {
          "text": "m² buyable with annual disposable income"
         }
        }
       }
      }
     },
     "metadata": {},
     "output_type": "display_data"
    }
   ],
   "source": [
    "fig = plot_price(\n",
    "    sales_data,\n",
    "    \"M2AffordedTotal\",\n",
    "    \"en\",\n",
    "    selected_locations,\n",
    "    [\"Actual price\"],\n",
    ")\n",
    "\n",
    "# Export to a standalone HTML file\n",
    "html_str = pio.to_html(fig, full_html=False, include_plotlyjs=\"cdn\")\n",
    "with open(\"Charts/Figure5_EN.html\", \"w\", encoding=\"utf-8\") as f:\n",
    "    f.write(html_str)\n",
    "\n",
    "# Exporting as a PNG file\n",
    "# fig.write_image(\"Charts/Figure5_EN.png\")\n",
    "\n",
    "# Previewing\n",
    "fig"
   ]
  },
  {
   "cell_type": "markdown",
   "id": "f550a30a",
   "metadata": {},
   "source": [
    "### Danish"
   ]
  },
  {
   "cell_type": "code",
   "execution_count": 57,
   "id": "4d3bf136",
   "metadata": {},
   "outputs": [
    {
     "data": {
      "application/vnd.plotly.v1+json": {
       "config": {
        "plotlyServerURL": "https://plot.ly"
       },
       "data": [
        {
         "hovertemplate": "Kommune=Odense<br>År=%{x}<br>m² som kan købes med en årlig disponibel indkomst=%{y}<extra></extra>",
         "legendgroup": "Odense",
         "line": {
          "color": "#1ea2b5",
          "dash": "solid"
         },
         "marker": {
          "symbol": "circle"
         },
         "mode": "lines",
         "name": "Odense",
         "orientation": "v",
         "showlegend": true,
         "textposition": "top center",
         "type": "scatter",
         "x": [
          2024,
          2023,
          2022,
          2021,
          2020,
          2019,
          2018,
          2017,
          2016,
          2015,
          2014,
          2013,
          2012,
          2011,
          2010,
          2009,
          2008,
          2007,
          2006,
          2005,
          2004,
          2003,
          2002,
          2001,
          2000,
          1999,
          1998,
          1997,
          1996,
          1995,
          1994,
          1993,
          1992
         ],
         "xaxis": "x",
         "y": [
          11.88,
          11.03,
          10.18,
          9.9,
          9.82,
          9.81,
          10.39,
          11.17,
          11.65,
          12.2,
          12.61,
          13.38,
          13.54,
          13.56,
          12.47,
          11.87,
          10.61,
          9.92,
          10.01,
          12.4,
          14.06,
          16.34,
          16.41,
          16.16,
          15.69,
          15.69,
          15.83,
          17.45,
          18.75,
          19.11,
          19.52,
          19.15,
          16.85
         ],
         "yaxis": "y"
        },
        {
         "hovertemplate": "Kommune=København<br>År=%{x}<br>m² som kan købes med en årlig disponibel indkomst=%{y}<extra></extra>",
         "legendgroup": "København",
         "line": {
          "color": "#324b4f",
          "dash": "solid"
         },
         "marker": {
          "symbol": "circle"
         },
         "mode": "lines",
         "name": "København",
         "orientation": "v",
         "showlegend": true,
         "textposition": "top center",
         "type": "scatter",
         "x": [
          2024,
          2023,
          2022,
          2021,
          2020,
          2019,
          2018,
          2017,
          2016,
          2015,
          2014,
          2013,
          2012,
          2011,
          2010,
          2009,
          2008,
          2007,
          2006,
          2005,
          2004,
          2003,
          2002,
          2001,
          2000,
          1999,
          1998,
          1997,
          1996,
          1995,
          1994,
          1993,
          1992
         ],
         "xaxis": "x",
         "y": [
          5.75,
          5.79,
          5.31,
          5.39,
          5.83,
          5.94,
          5.75,
          5.87,
          6.33,
          6.78,
          7.39,
          7.67,
          8.45,
          8.19,
          7.9,
          8.15,
          6.86,
          6.03,
          5.24,
          6.03,
          7.56,
          8.16,
          8.41,
          8.85,
          10.04,
          10.93,
          12.62,
          14.32,
          16.13,
          17.41,
          17.24,
          16,
          14.82
         ],
         "yaxis": "y"
        },
        {
         "hovertemplate": "Kommune=Aalborg<br>År=%{x}<br>m² som kan købes med en årlig disponibel indkomst=%{y}<extra></extra>",
         "legendgroup": "Aalborg",
         "line": {
          "color": "#95b0b5",
          "dash": "solid"
         },
         "marker": {
          "symbol": "circle"
         },
         "mode": "lines",
         "name": "Aalborg",
         "orientation": "v",
         "showlegend": true,
         "textposition": "top center",
         "type": "scatter",
         "x": [
          2024,
          2023,
          2022,
          2021,
          2020,
          2019,
          2018,
          2017,
          2016,
          2015,
          2014,
          2013,
          2012,
          2011,
          2010,
          2009,
          2008,
          2007,
          2006,
          2005,
          2004,
          2003,
          2002,
          2001,
          2000,
          1999,
          1998,
          1997,
          1996,
          1995,
          1994,
          1993,
          1992
         ],
         "xaxis": "x",
         "y": [
          13.7,
          12.75,
          11.8,
          11.74,
          11.7,
          11.22,
          10.73,
          10.52,
          11.14,
          12.14,
          13.13,
          13.47,
          14.16,
          14.06,
          13.83,
          13.01,
          11.97,
          11.25,
          11.52,
          12.84,
          14.33,
          15.76,
          15.62,
          15.4,
          15.13,
          15.11,
          16.66,
          18.31,
          20.75,
          21.46,
          20.88,
          20.37,
          20.38
         ],
         "yaxis": "y"
        },
        {
         "hovertemplate": "Kommune=Aarhus<br>År=%{x}<br>m² som kan købes med en årlig disponibel indkomst=%{y}<extra></extra>",
         "legendgroup": "Aarhus",
         "line": {
          "color": "#9f8ac3",
          "dash": "solid"
         },
         "marker": {
          "symbol": "circle"
         },
         "mode": "lines",
         "name": "Aarhus",
         "orientation": "v",
         "showlegend": true,
         "textposition": "top center",
         "type": "scatter",
         "x": [
          2024,
          2023,
          2022,
          2021,
          2020,
          2019,
          2018,
          2017,
          2016,
          2015,
          2014,
          2013,
          2012,
          2011,
          2010,
          2009,
          2008,
          2007,
          2006,
          2005,
          2004,
          2003,
          2002,
          2001,
          2000,
          1999,
          1998,
          1997,
          1996,
          1995,
          1994,
          1993,
          1992
         ],
         "xaxis": "x",
         "y": [
          8.07,
          7.38,
          6.88,
          7.02,
          7.42,
          7.48,
          7.26,
          7.41,
          7.53,
          7.98,
          8.4,
          8.62,
          8.73,
          8.38,
          8.38,
          8.55,
          7.48,
          7.02,
          6.26,
          7.24,
          8.6,
          11.17,
          11.36,
          11.61,
          11.13,
          11.29,
          11.62,
          12.64,
          13.72,
          15.07,
          14.62,
          14.78,
          13.76
         ],
         "yaxis": "y"
        },
        {
         "hovertemplate": "Kommune=Frederiksberg<br>År=%{x}<br>m² som kan købes med en årlig disponibel indkomst=%{y}<extra></extra>",
         "legendgroup": "Frederiksberg",
         "line": {
          "color": "#6b588d",
          "dash": "solid"
         },
         "marker": {
          "symbol": "circle"
         },
         "mode": "lines",
         "name": "Frederiksberg",
         "orientation": "v",
         "showlegend": true,
         "textposition": "top center",
         "type": "scatter",
         "x": [
          2024,
          2023,
          2022,
          2021,
          2020,
          2019,
          2018,
          2017,
          2016,
          2015,
          2014,
          2013,
          2012,
          2011,
          2010,
          2009,
          2008,
          2007,
          2006,
          2005,
          2004,
          2003,
          2002,
          2001,
          2000,
          1999,
          1998,
          1997,
          1996,
          1995,
          1994,
          1993,
          1992
         ],
         "xaxis": "x",
         "y": [
          5.38,
          5.31,
          4.86,
          5.21,
          5.73,
          5.9,
          5.68,
          5.74,
          6.01,
          6.22,
          6.88,
          7.26,
          7.97,
          7.93,
          8.03,
          8.16,
          7.09,
          6.33,
          5.83,
          6.67,
          8.66,
          9.16,
          9.28,
          9.78,
          10.7,
          11.2,
          12.53,
          13.71,
          15.71,
          16.98,
          17.33,
          17.11,
          16.28
         ],
         "yaxis": "y"
        }
       ],
       "layout": {
        "legend": {
         "bgcolor": "rgba(255, 255, 255, 0.5)",
         "title": {
          "text": "Kommune"
         },
         "tracegroupgap": 0,
         "x": 0.5,
         "xanchor": "center",
         "y": 1.1,
         "yanchor": "bottom"
        },
        "margin": {
         "t": 60
        },
        "template": {
         "layout": {
          "colorway": [
           "#1ea2b5",
           "#324b4f",
           "#95b0b5",
           "#9f8ac3",
           "#6b588d"
          ]
         }
        },
        "xaxis": {
         "anchor": "y",
         "domain": [
          0,
          1
         ],
         "title": {
          "text": "År"
         }
        },
        "yaxis": {
         "anchor": "x",
         "domain": [
          0,
          1
         ],
         "title": {
          "text": "m² som kan købes med en årlig disponibel indkomst"
         }
        }
       }
      }
     },
     "metadata": {},
     "output_type": "display_data"
    }
   ],
   "source": [
    "fig = plot_price(\n",
    "    sales_data,\n",
    "    \"M2AffordedTotal\",\n",
    "    \"dk\",\n",
    "    selected_locations,\n",
    "    [\"Actual price\"],\n",
    ")\n",
    "\n",
    "# Export to a standalone HTML file\n",
    "html_str = pio.to_html(fig, full_html=False, include_plotlyjs=\"cdn\")\n",
    "with open(\"Charts/Figure5_DK.html\", \"w\", encoding=\"utf-8\") as f:\n",
    "    f.write(html_str)\n",
    "\n",
    "# Exporting as a PNG file\n",
    "# fig.write_image(\"Charts/Figure5_DK.png\")\n",
    "\n",
    "# Previewing\n",
    "fig"
   ]
  },
  {
   "cell_type": "markdown",
   "id": "fe1e17c9",
   "metadata": {},
   "source": [
    "## Figure 6"
   ]
  },
  {
   "cell_type": "code",
   "execution_count": 58,
   "id": "9f843b75",
   "metadata": {},
   "outputs": [],
   "source": [
    "# Creating the chart\n",
    "selected_locations = [\"Randers\", \"Brønderslev\", \"Faxe\"]\n",
    "# chart_title_en = \"Number of m² that can be bought with average annual disposable income in municipalities that do not follow the general trend\"\n",
    "# chart_title_dk = \"Antal m² som kan købes med en gns. årlig disponibel indkomst i kommuner, som adskiller sig fra den overordnede tendens\""
   ]
  },
  {
   "cell_type": "markdown",
   "id": "048bc69c",
   "metadata": {},
   "source": [
    "### English"
   ]
  },
  {
   "cell_type": "code",
   "execution_count": 59,
   "id": "ccc7aa59",
   "metadata": {},
   "outputs": [
    {
     "data": {
      "application/vnd.plotly.v1+json": {
       "config": {
        "plotlyServerURL": "https://plot.ly"
       },
       "data": [
        {
         "hovertemplate": "Municipality=Randers<br>Year=%{x}<br>m² buyable with annual disposable income=%{y}<extra></extra>",
         "legendgroup": "Randers",
         "line": {
          "color": "#1ea2b5",
          "dash": "solid"
         },
         "marker": {
          "symbol": "circle"
         },
         "mode": "lines",
         "name": "Randers",
         "orientation": "v",
         "showlegend": true,
         "textposition": "top center",
         "type": "scatter",
         "x": [
          2024,
          2023,
          2022,
          2021,
          2020,
          2019,
          2018,
          2017,
          2016,
          2015,
          2014,
          2013,
          2012,
          2011,
          2010,
          2009,
          2008,
          2007,
          2006,
          2005,
          2004,
          2003,
          2002,
          2001,
          2000,
          1999,
          1998,
          1997,
          1996,
          1995,
          1994,
          1993,
          1992
         ],
         "xaxis": "x",
         "y": [
          30.82,
          26.63,
          25,
          22.94,
          23.72,
          22.85,
          23.54,
          23.1,
          23.37,
          23.16,
          23.22,
          22.46,
          20.59,
          20.31,
          19.12,
          18.17,
          15.22,
          15.31,
          17.56,
          21.3,
          21.47,
          24.46,
          24.62,
          24.11,
          24.34,
          24.03,
          25.64,
          26.63,
          28,
          31.28,
          30.12,
          28.86,
          26.01
         ],
         "yaxis": "y"
        },
        {
         "hovertemplate": "Municipality=Brønderslev<br>Year=%{x}<br>m² buyable with annual disposable income=%{y}<extra></extra>",
         "legendgroup": "Brønderslev",
         "line": {
          "color": "#324b4f",
          "dash": "solid"
         },
         "marker": {
          "symbol": "circle"
         },
         "mode": "lines",
         "name": "Brønderslev",
         "orientation": "v",
         "showlegend": true,
         "textposition": "top center",
         "type": "scatter",
         "x": [
          2024,
          2023,
          2022,
          2021,
          2020,
          2019,
          2018,
          2017,
          2014,
          2012,
          2010,
          2007,
          2005
         ],
         "xaxis": "x",
         "y": [
          23.28,
          26.35,
          20.71,
          24.4,
          26.49,
          22.01,
          23.84,
          21.75,
          28.86,
          18.87,
          22.68,
          14.26,
          11.82
         ],
         "yaxis": "y"
        },
        {
         "hovertemplate": "Municipality=Faxe<br>Year=%{x}<br>m² buyable with annual disposable income=%{y}<extra></extra>",
         "legendgroup": "Faxe",
         "line": {
          "color": "#95b0b5",
          "dash": "solid"
         },
         "marker": {
          "symbol": "circle"
         },
         "mode": "lines",
         "name": "Faxe",
         "orientation": "v",
         "showlegend": true,
         "textposition": "top center",
         "type": "scatter",
         "x": [
          2023,
          2022,
          2021,
          2017,
          2008,
          2007,
          2005,
          2004,
          2003,
          2002,
          2000,
          1999,
          1998,
          1997,
          1996,
          1995,
          1994,
          1993,
          1992
         ],
         "xaxis": "x",
         "y": [
          14.81,
          16.55,
          15.99,
          17.6,
          9.62,
          9.55,
          13.42,
          14.18,
          12.84,
          12.78,
          13.9,
          14.17,
          14.24,
          15.49,
          16.83,
          16.69,
          15.14,
          16.82,
          15.03
         ],
         "yaxis": "y"
        }
       ],
       "layout": {
        "legend": {
         "bgcolor": "rgba(255, 255, 255, 0.5)",
         "title": {
          "text": "Municipality"
         },
         "tracegroupgap": 0,
         "x": 0.5,
         "xanchor": "center",
         "y": 1.1,
         "yanchor": "bottom"
        },
        "margin": {
         "t": 60
        },
        "template": {
         "layout": {
          "colorway": [
           "#1ea2b5",
           "#324b4f",
           "#95b0b5",
           "#9f8ac3",
           "#6b588d"
          ]
         }
        },
        "xaxis": {
         "anchor": "y",
         "domain": [
          0,
          1
         ],
         "title": {
          "text": "Year"
         }
        },
        "yaxis": {
         "anchor": "x",
         "domain": [
          0,
          1
         ],
         "title": {
          "text": "m² buyable with annual disposable income"
         }
        }
       }
      }
     },
     "metadata": {},
     "output_type": "display_data"
    }
   ],
   "source": [
    "fig = plot_price(\n",
    "    sales_data,\n",
    "    \"M2AffordedTotal\",\n",
    "    \"en\",\n",
    "    selected_locations,\n",
    "    [\"Actual price\"],\n",
    ")\n",
    "\n",
    "# Export to a standalone HTML file\n",
    "html_str = pio.to_html(fig, full_html=False, include_plotlyjs=\"cdn\")\n",
    "with open(\"Charts/Figure6_EN.html\", \"w\", encoding=\"utf-8\") as f:\n",
    "    f.write(html_str)\n",
    "\n",
    "# Exporting as a PNG file\n",
    "# fig.write_image(\"Charts/Figure6_EN.png\")\n",
    "\n",
    "# Previewing\n",
    "fig"
   ]
  },
  {
   "cell_type": "markdown",
   "id": "ce242fec",
   "metadata": {},
   "source": [
    "### Danish"
   ]
  },
  {
   "cell_type": "code",
   "execution_count": 60,
   "id": "eb2ff91f",
   "metadata": {},
   "outputs": [
    {
     "data": {
      "application/vnd.plotly.v1+json": {
       "config": {
        "plotlyServerURL": "https://plot.ly"
       },
       "data": [
        {
         "hovertemplate": "Kommune=Randers<br>År=%{x}<br>m² som kan købes med en årlig disponibel indkomst=%{y}<extra></extra>",
         "legendgroup": "Randers",
         "line": {
          "color": "#1ea2b5",
          "dash": "solid"
         },
         "marker": {
          "symbol": "circle"
         },
         "mode": "lines",
         "name": "Randers",
         "orientation": "v",
         "showlegend": true,
         "textposition": "top center",
         "type": "scatter",
         "x": [
          2024,
          2023,
          2022,
          2021,
          2020,
          2019,
          2018,
          2017,
          2016,
          2015,
          2014,
          2013,
          2012,
          2011,
          2010,
          2009,
          2008,
          2007,
          2006,
          2005,
          2004,
          2003,
          2002,
          2001,
          2000,
          1999,
          1998,
          1997,
          1996,
          1995,
          1994,
          1993,
          1992
         ],
         "xaxis": "x",
         "y": [
          30.82,
          26.63,
          25,
          22.94,
          23.72,
          22.85,
          23.54,
          23.1,
          23.37,
          23.16,
          23.22,
          22.46,
          20.59,
          20.31,
          19.12,
          18.17,
          15.22,
          15.31,
          17.56,
          21.3,
          21.47,
          24.46,
          24.62,
          24.11,
          24.34,
          24.03,
          25.64,
          26.63,
          28,
          31.28,
          30.12,
          28.86,
          26.01
         ],
         "yaxis": "y"
        },
        {
         "hovertemplate": "Kommune=Brønderslev<br>År=%{x}<br>m² som kan købes med en årlig disponibel indkomst=%{y}<extra></extra>",
         "legendgroup": "Brønderslev",
         "line": {
          "color": "#324b4f",
          "dash": "solid"
         },
         "marker": {
          "symbol": "circle"
         },
         "mode": "lines",
         "name": "Brønderslev",
         "orientation": "v",
         "showlegend": true,
         "textposition": "top center",
         "type": "scatter",
         "x": [
          2024,
          2023,
          2022,
          2021,
          2020,
          2019,
          2018,
          2017,
          2014,
          2012,
          2010,
          2007,
          2005
         ],
         "xaxis": "x",
         "y": [
          23.28,
          26.35,
          20.71,
          24.4,
          26.49,
          22.01,
          23.84,
          21.75,
          28.86,
          18.87,
          22.68,
          14.26,
          11.82
         ],
         "yaxis": "y"
        },
        {
         "hovertemplate": "Kommune=Faxe<br>År=%{x}<br>m² som kan købes med en årlig disponibel indkomst=%{y}<extra></extra>",
         "legendgroup": "Faxe",
         "line": {
          "color": "#95b0b5",
          "dash": "solid"
         },
         "marker": {
          "symbol": "circle"
         },
         "mode": "lines",
         "name": "Faxe",
         "orientation": "v",
         "showlegend": true,
         "textposition": "top center",
         "type": "scatter",
         "x": [
          2023,
          2022,
          2021,
          2017,
          2008,
          2007,
          2005,
          2004,
          2003,
          2002,
          2000,
          1999,
          1998,
          1997,
          1996,
          1995,
          1994,
          1993,
          1992
         ],
         "xaxis": "x",
         "y": [
          14.81,
          16.55,
          15.99,
          17.6,
          9.62,
          9.55,
          13.42,
          14.18,
          12.84,
          12.78,
          13.9,
          14.17,
          14.24,
          15.49,
          16.83,
          16.69,
          15.14,
          16.82,
          15.03
         ],
         "yaxis": "y"
        }
       ],
       "layout": {
        "legend": {
         "bgcolor": "rgba(255, 255, 255, 0.5)",
         "title": {
          "text": "Kommune"
         },
         "tracegroupgap": 0,
         "x": 0.5,
         "xanchor": "center",
         "y": 1.1,
         "yanchor": "bottom"
        },
        "margin": {
         "t": 60
        },
        "template": {
         "layout": {
          "colorway": [
           "#1ea2b5",
           "#324b4f",
           "#95b0b5",
           "#9f8ac3",
           "#6b588d"
          ]
         }
        },
        "xaxis": {
         "anchor": "y",
         "domain": [
          0,
          1
         ],
         "title": {
          "text": "År"
         }
        },
        "yaxis": {
         "anchor": "x",
         "domain": [
          0,
          1
         ],
         "title": {
          "text": "m² som kan købes med en årlig disponibel indkomst"
         }
        }
       }
      }
     },
     "metadata": {},
     "output_type": "display_data"
    }
   ],
   "source": [
    "fig = plot_price(\n",
    "    sales_data,\n",
    "    \"M2AffordedTotal\",\n",
    "    \"dk\",\n",
    "    selected_locations,\n",
    "    [\"Actual price\"],\n",
    ")\n",
    "\n",
    "# Export to a standalone HTML file\n",
    "html_str = pio.to_html(fig, full_html=False, include_plotlyjs=\"cdn\")\n",
    "with open(\"Charts/Figure6_DK.html\", \"w\", encoding=\"utf-8\") as f:\n",
    "    f.write(html_str)\n",
    "\n",
    "# Exporting as a PNG file\n",
    "# fig.write_image(\"Charts/Figure6_DK.png\")\n",
    "\n",
    "# Previewing\n",
    "fig"
   ]
  },
  {
   "cell_type": "markdown",
   "id": "1416b83a",
   "metadata": {},
   "source": [
    "## Figure 7"
   ]
  },
  {
   "cell_type": "code",
   "execution_count": 61,
   "id": "4747d2f1",
   "metadata": {},
   "outputs": [],
   "source": [
    "# Creating the chart\n",
    "selected_locations = [\"København\", \"Frederiksberg\", \"Aarhus\", \"Odense\", \"Aalborg\"]\n",
    "# chart_title_en = \"Average price per m² for Denmark's four largest cities over time\"\n",
    "# chart_title_dk = \"Gennemsnitlig pris pr. m² over tid i Danmarks fire største byer\""
   ]
  },
  {
   "cell_type": "markdown",
   "id": "95c9bf9b",
   "metadata": {},
   "source": [
    "### English"
   ]
  },
  {
   "cell_type": "code",
   "execution_count": 62,
   "id": "c75c79f4",
   "metadata": {},
   "outputs": [
    {
     "data": {
      "application/vnd.plotly.v1+json": {
       "config": {
        "plotlyServerURL": "https://plot.ly"
       },
       "data": [
        {
         "hovertemplate": "Municipality=Odense<br>Year=%{x}<br>Average price per m²=%{y}<extra></extra>",
         "legendgroup": "Odense",
         "line": {
          "color": "#1ea2b5",
          "dash": "solid"
         },
         "marker": {
          "symbol": "circle"
         },
         "mode": "lines",
         "name": "Odense",
         "orientation": "v",
         "showlegend": true,
         "textposition": "top center",
         "type": "scatter",
         "x": [
          2024,
          2023,
          2022,
          2021,
          2020,
          2019,
          2018,
          2017,
          2016,
          2015,
          2014,
          2013,
          2012,
          2011,
          2010,
          2009,
          2008,
          2007,
          2006,
          2005,
          2004,
          2003,
          2002,
          2001,
          2000,
          1999,
          1998,
          1997,
          1996,
          1995,
          1994,
          1993,
          1992
         ],
         "xaxis": "x",
         "y": [
          23039.21,
          22700.1,
          23399.65,
          24054.36,
          23077.56,
          22181.63,
          20409.41,
          18505.97,
          17426.79,
          16489.08,
          15575.32,
          14421.64,
          13842.63,
          13788.63,
          14791.87,
          14383.12,
          15619.79,
          16684.19,
          15789.56,
          12316.75,
          10470.78,
          8564.19,
          8276.89,
          8116.71,
          8105.24,
          7845.05,
          7587.72,
          6564.11,
          5862.6,
          5555.53,
          5208.18,
          4987.73,
          5482.81
         ],
         "yaxis": "y"
        },
        {
         "hovertemplate": "Municipality=København<br>Year=%{x}<br>Average price per m²=%{y}<extra></extra>",
         "legendgroup": "København",
         "line": {
          "color": "#324b4f",
          "dash": "solid"
         },
         "marker": {
          "symbol": "circle"
         },
         "mode": "lines",
         "name": "København",
         "orientation": "v",
         "showlegend": true,
         "textposition": "top center",
         "type": "scatter",
         "x": [
          2024,
          2023,
          2022,
          2021,
          2020,
          2019,
          2018,
          2017,
          2016,
          2015,
          2014,
          2013,
          2012,
          2011,
          2010,
          2009,
          2008,
          2007,
          2006,
          2005,
          2004,
          2003,
          2002,
          2001,
          2000,
          1999,
          1998,
          1997,
          1996,
          1995,
          1994,
          1993,
          1992
         ],
         "xaxis": "x",
         "y": [
          51678.38,
          48016.27,
          49571.68,
          48809.68,
          42515.65,
          39847.7,
          39727.66,
          37654.15,
          33995.55,
          30973.84,
          27589.14,
          25823.5,
          22846.58,
          23085.88,
          23329.19,
          21086.68,
          24415.54,
          27337,
          30874.37,
          25716.93,
          19698.79,
          17347.18,
          16323.78,
          14794.53,
          12551.35,
          10990.6,
          9151.77,
          7641.43,
          6582.55,
          5845.68,
          5677.85,
          5763.42,
          6067.25
         ],
         "yaxis": "y"
        },
        {
         "hovertemplate": "Municipality=Aalborg<br>Year=%{x}<br>Average price per m²=%{y}<extra></extra>",
         "legendgroup": "Aalborg",
         "line": {
          "color": "#95b0b5",
          "dash": "solid"
         },
         "marker": {
          "symbol": "circle"
         },
         "mode": "lines",
         "name": "Aalborg",
         "orientation": "v",
         "showlegend": true,
         "textposition": "top center",
         "type": "scatter",
         "x": [
          2024,
          2023,
          2022,
          2021,
          2020,
          2019,
          2018,
          2017,
          2016,
          2015,
          2014,
          2013,
          2012,
          2011,
          2010,
          2009,
          2008,
          2007,
          2006,
          2005,
          2004,
          2003,
          2002,
          2001,
          2000,
          1999,
          1998,
          1997,
          1996,
          1995,
          1994,
          1993,
          1992
         ],
         "xaxis": "x",
         "y": [
          20461.09,
          20123.51,
          20927.28,
          20811.79,
          20009.88,
          19922.63,
          20329.3,
          20212.86,
          18488.4,
          16734.57,
          15110.27,
          14502.29,
          13533.92,
          13356.23,
          13365.93,
          13213.92,
          13961.08,
          14793.65,
          13961.53,
          12140.1,
          10530.46,
          9037.75,
          8870.87,
          8697.71,
          8644.54,
          8282.67,
          7293.6,
          6343.6,
          5389.5,
          5021.33,
          4946.69,
          4747,
          4602.2
         ],
         "yaxis": "y"
        },
        {
         "hovertemplate": "Municipality=Aarhus<br>Year=%{x}<br>Average price per m²=%{y}<extra></extra>",
         "legendgroup": "Aarhus",
         "line": {
          "color": "#9f8ac3",
          "dash": "solid"
         },
         "marker": {
          "symbol": "circle"
         },
         "mode": "lines",
         "name": "Aarhus",
         "orientation": "v",
         "showlegend": true,
         "textposition": "top center",
         "type": "scatter",
         "x": [
          2024,
          2023,
          2022,
          2021,
          2020,
          2019,
          2018,
          2017,
          2016,
          2015,
          2014,
          2013,
          2012,
          2011,
          2010,
          2009,
          2008,
          2007,
          2006,
          2005,
          2004,
          2003,
          2002,
          2001,
          2000,
          1999,
          1998,
          1997,
          1996,
          1995,
          1994,
          1993,
          1992
         ],
         "xaxis": "x",
         "y": [
          37130.12,
          36696.58,
          38045.66,
          37418.47,
          33712.94,
          32057.62,
          32289.5,
          30879.16,
          29363.41,
          27559.54,
          25171.07,
          24030.89,
          22920.45,
          23421.16,
          23015.97,
          20783.77,
          23080.6,
          24855.15,
          27156.45,
          22735.59,
          18094.06,
          13256.77,
          12590.03,
          11873.97,
          11986.51,
          11462.11,
          10769.46,
          9490.17,
          8406.2,
          7386.24,
          7244.78,
          6695.03,
          6980.34
         ],
         "yaxis": "y"
        },
        {
         "hovertemplate": "Municipality=Frederiksberg<br>Year=%{x}<br>Average price per m²=%{y}<extra></extra>",
         "legendgroup": "Frederiksberg",
         "line": {
          "color": "#6b588d",
          "dash": "solid"
         },
         "marker": {
          "symbol": "circle"
         },
         "mode": "lines",
         "name": "Frederiksberg",
         "orientation": "v",
         "showlegend": true,
         "textposition": "top center",
         "type": "scatter",
         "x": [
          2024,
          2023,
          2022,
          2021,
          2020,
          2019,
          2018,
          2017,
          2016,
          2015,
          2014,
          2013,
          2012,
          2011,
          2010,
          2009,
          2008,
          2007,
          2006,
          2005,
          2004,
          2003,
          2002,
          2001,
          2000,
          1999,
          1998,
          1997,
          1996,
          1995,
          1994,
          1993,
          1992
         ],
         "xaxis": "x",
         "y": [
          66554.12,
          61971.56,
          64351.14,
          61273.78,
          52678.43,
          48640.06,
          48728.01,
          46695.2,
          43002.21,
          40658.3,
          35735.21,
          32835.83,
          28978.44,
          28353.02,
          27344.74,
          24474.42,
          27399.35,
          30934.14,
          33523.93,
          27820.15,
          20512.19,
          18281.5,
          17705,
          16223.25,
          14197,
          13061.25,
          11091.5,
          9563,
          8095.5,
          7112.75,
          6646.75,
          6365.25,
          6417.75
         ],
         "yaxis": "y"
        }
       ],
       "layout": {
        "legend": {
         "bgcolor": "rgba(255, 255, 255, 0.5)",
         "title": {
          "text": "Municipality"
         },
         "tracegroupgap": 0,
         "x": 0.5,
         "xanchor": "center",
         "y": 1.1,
         "yanchor": "bottom"
        },
        "margin": {
         "t": 60
        },
        "template": {
         "layout": {
          "colorway": [
           "#1ea2b5",
           "#324b4f",
           "#95b0b5",
           "#9f8ac3",
           "#6b588d"
          ]
         }
        },
        "xaxis": {
         "anchor": "y",
         "domain": [
          0,
          1
         ],
         "title": {
          "text": "Year"
         }
        },
        "yaxis": {
         "anchor": "x",
         "domain": [
          0,
          1
         ],
         "title": {
          "text": "Average price per m²"
         }
        }
       }
      }
     },
     "metadata": {},
     "output_type": "display_data"
    }
   ],
   "source": [
    "fig = plot_price(\n",
    "    sales_data,\n",
    "    \"AvgSalesPrice\",\n",
    "    \"en\",\n",
    "    selected_locations,\n",
    "    [\"Actual price\"],\n",
    ")\n",
    "\n",
    "# Export to a standalone HTML file\n",
    "html_str = pio.to_html(fig, full_html=False, include_plotlyjs=\"cdn\")\n",
    "with open(\"Charts/Figure7_EN.html\", \"w\", encoding=\"utf-8\") as f:\n",
    "    f.write(html_str)\n",
    "\n",
    "# Exporting as a PNG file\n",
    "# fig.write_image(\"Charts/Figure7_EN.png\")\n",
    "\n",
    "fig"
   ]
  },
  {
   "cell_type": "markdown",
   "id": "ae1257eb",
   "metadata": {},
   "source": [
    "### Danish"
   ]
  },
  {
   "cell_type": "code",
   "execution_count": 63,
   "id": "927c82a8",
   "metadata": {},
   "outputs": [
    {
     "data": {
      "application/vnd.plotly.v1+json": {
       "config": {
        "plotlyServerURL": "https://plot.ly"
       },
       "data": [
        {
         "hovertemplate": "Kommune=Odense<br>År=%{x}<br>Gennemsnitlig pris pr. m²=%{y}<extra></extra>",
         "legendgroup": "Odense",
         "line": {
          "color": "#1ea2b5",
          "dash": "solid"
         },
         "marker": {
          "symbol": "circle"
         },
         "mode": "lines",
         "name": "Odense",
         "orientation": "v",
         "showlegend": true,
         "textposition": "top center",
         "type": "scatter",
         "x": [
          2024,
          2023,
          2022,
          2021,
          2020,
          2019,
          2018,
          2017,
          2016,
          2015,
          2014,
          2013,
          2012,
          2011,
          2010,
          2009,
          2008,
          2007,
          2006,
          2005,
          2004,
          2003,
          2002,
          2001,
          2000,
          1999,
          1998,
          1997,
          1996,
          1995,
          1994,
          1993,
          1992
         ],
         "xaxis": "x",
         "y": [
          23039.21,
          22700.1,
          23399.65,
          24054.36,
          23077.56,
          22181.63,
          20409.41,
          18505.97,
          17426.79,
          16489.08,
          15575.32,
          14421.64,
          13842.63,
          13788.63,
          14791.87,
          14383.12,
          15619.79,
          16684.19,
          15789.56,
          12316.75,
          10470.78,
          8564.19,
          8276.89,
          8116.71,
          8105.24,
          7845.05,
          7587.72,
          6564.11,
          5862.6,
          5555.53,
          5208.18,
          4987.73,
          5482.81
         ],
         "yaxis": "y"
        },
        {
         "hovertemplate": "Kommune=København<br>År=%{x}<br>Gennemsnitlig pris pr. m²=%{y}<extra></extra>",
         "legendgroup": "København",
         "line": {
          "color": "#324b4f",
          "dash": "solid"
         },
         "marker": {
          "symbol": "circle"
         },
         "mode": "lines",
         "name": "København",
         "orientation": "v",
         "showlegend": true,
         "textposition": "top center",
         "type": "scatter",
         "x": [
          2024,
          2023,
          2022,
          2021,
          2020,
          2019,
          2018,
          2017,
          2016,
          2015,
          2014,
          2013,
          2012,
          2011,
          2010,
          2009,
          2008,
          2007,
          2006,
          2005,
          2004,
          2003,
          2002,
          2001,
          2000,
          1999,
          1998,
          1997,
          1996,
          1995,
          1994,
          1993,
          1992
         ],
         "xaxis": "x",
         "y": [
          51678.38,
          48016.27,
          49571.68,
          48809.68,
          42515.65,
          39847.7,
          39727.66,
          37654.15,
          33995.55,
          30973.84,
          27589.14,
          25823.5,
          22846.58,
          23085.88,
          23329.19,
          21086.68,
          24415.54,
          27337,
          30874.37,
          25716.93,
          19698.79,
          17347.18,
          16323.78,
          14794.53,
          12551.35,
          10990.6,
          9151.77,
          7641.43,
          6582.55,
          5845.68,
          5677.85,
          5763.42,
          6067.25
         ],
         "yaxis": "y"
        },
        {
         "hovertemplate": "Kommune=Aalborg<br>År=%{x}<br>Gennemsnitlig pris pr. m²=%{y}<extra></extra>",
         "legendgroup": "Aalborg",
         "line": {
          "color": "#95b0b5",
          "dash": "solid"
         },
         "marker": {
          "symbol": "circle"
         },
         "mode": "lines",
         "name": "Aalborg",
         "orientation": "v",
         "showlegend": true,
         "textposition": "top center",
         "type": "scatter",
         "x": [
          2024,
          2023,
          2022,
          2021,
          2020,
          2019,
          2018,
          2017,
          2016,
          2015,
          2014,
          2013,
          2012,
          2011,
          2010,
          2009,
          2008,
          2007,
          2006,
          2005,
          2004,
          2003,
          2002,
          2001,
          2000,
          1999,
          1998,
          1997,
          1996,
          1995,
          1994,
          1993,
          1992
         ],
         "xaxis": "x",
         "y": [
          20461.09,
          20123.51,
          20927.28,
          20811.79,
          20009.88,
          19922.63,
          20329.3,
          20212.86,
          18488.4,
          16734.57,
          15110.27,
          14502.29,
          13533.92,
          13356.23,
          13365.93,
          13213.92,
          13961.08,
          14793.65,
          13961.53,
          12140.1,
          10530.46,
          9037.75,
          8870.87,
          8697.71,
          8644.54,
          8282.67,
          7293.6,
          6343.6,
          5389.5,
          5021.33,
          4946.69,
          4747,
          4602.2
         ],
         "yaxis": "y"
        },
        {
         "hovertemplate": "Kommune=Aarhus<br>År=%{x}<br>Gennemsnitlig pris pr. m²=%{y}<extra></extra>",
         "legendgroup": "Aarhus",
         "line": {
          "color": "#9f8ac3",
          "dash": "solid"
         },
         "marker": {
          "symbol": "circle"
         },
         "mode": "lines",
         "name": "Aarhus",
         "orientation": "v",
         "showlegend": true,
         "textposition": "top center",
         "type": "scatter",
         "x": [
          2024,
          2023,
          2022,
          2021,
          2020,
          2019,
          2018,
          2017,
          2016,
          2015,
          2014,
          2013,
          2012,
          2011,
          2010,
          2009,
          2008,
          2007,
          2006,
          2005,
          2004,
          2003,
          2002,
          2001,
          2000,
          1999,
          1998,
          1997,
          1996,
          1995,
          1994,
          1993,
          1992
         ],
         "xaxis": "x",
         "y": [
          37130.12,
          36696.58,
          38045.66,
          37418.47,
          33712.94,
          32057.62,
          32289.5,
          30879.16,
          29363.41,
          27559.54,
          25171.07,
          24030.89,
          22920.45,
          23421.16,
          23015.97,
          20783.77,
          23080.6,
          24855.15,
          27156.45,
          22735.59,
          18094.06,
          13256.77,
          12590.03,
          11873.97,
          11986.51,
          11462.11,
          10769.46,
          9490.17,
          8406.2,
          7386.24,
          7244.78,
          6695.03,
          6980.34
         ],
         "yaxis": "y"
        },
        {
         "hovertemplate": "Kommune=Frederiksberg<br>År=%{x}<br>Gennemsnitlig pris pr. m²=%{y}<extra></extra>",
         "legendgroup": "Frederiksberg",
         "line": {
          "color": "#6b588d",
          "dash": "solid"
         },
         "marker": {
          "symbol": "circle"
         },
         "mode": "lines",
         "name": "Frederiksberg",
         "orientation": "v",
         "showlegend": true,
         "textposition": "top center",
         "type": "scatter",
         "x": [
          2024,
          2023,
          2022,
          2021,
          2020,
          2019,
          2018,
          2017,
          2016,
          2015,
          2014,
          2013,
          2012,
          2011,
          2010,
          2009,
          2008,
          2007,
          2006,
          2005,
          2004,
          2003,
          2002,
          2001,
          2000,
          1999,
          1998,
          1997,
          1996,
          1995,
          1994,
          1993,
          1992
         ],
         "xaxis": "x",
         "y": [
          66554.12,
          61971.56,
          64351.14,
          61273.78,
          52678.43,
          48640.06,
          48728.01,
          46695.2,
          43002.21,
          40658.3,
          35735.21,
          32835.83,
          28978.44,
          28353.02,
          27344.74,
          24474.42,
          27399.35,
          30934.14,
          33523.93,
          27820.15,
          20512.19,
          18281.5,
          17705,
          16223.25,
          14197,
          13061.25,
          11091.5,
          9563,
          8095.5,
          7112.75,
          6646.75,
          6365.25,
          6417.75
         ],
         "yaxis": "y"
        }
       ],
       "layout": {
        "legend": {
         "bgcolor": "rgba(255, 255, 255, 0.5)",
         "title": {
          "text": "Kommune"
         },
         "tracegroupgap": 0,
         "x": 0.5,
         "xanchor": "center",
         "y": 1.1,
         "yanchor": "bottom"
        },
        "margin": {
         "t": 60
        },
        "template": {
         "layout": {
          "colorway": [
           "#1ea2b5",
           "#324b4f",
           "#95b0b5",
           "#9f8ac3",
           "#6b588d"
          ]
         }
        },
        "xaxis": {
         "anchor": "y",
         "domain": [
          0,
          1
         ],
         "title": {
          "text": "År"
         }
        },
        "yaxis": {
         "anchor": "x",
         "domain": [
          0,
          1
         ],
         "title": {
          "text": "Gennemsnitlig pris pr. m²"
         }
        }
       }
      }
     },
     "metadata": {},
     "output_type": "display_data"
    }
   ],
   "source": [
    "fig = plot_price(\n",
    "    sales_data,\n",
    "    \"AvgSalesPrice\",\n",
    "    \"dk\",\n",
    "    selected_locations,\n",
    "    [\"Actual price\"],\n",
    ")\n",
    "\n",
    "# Export to a standalone HTML file\n",
    "html_str = pio.to_html(fig, full_html=False, include_plotlyjs=\"cdn\")\n",
    "with open(\"Charts/Figure7_DK.html\", \"w\", encoding=\"utf-8\") as f:\n",
    "    f.write(html_str)\n",
    "\n",
    "# Exporting as a PNG file\n",
    "# fig.write_image(\"Charts/Figure7_DK.png\")\n",
    "\n",
    "fig"
   ]
  },
  {
   "cell_type": "markdown",
   "id": "295d84e0",
   "metadata": {},
   "source": [
    "## Figure 8"
   ]
  },
  {
   "cell_type": "code",
   "execution_count": 64,
   "id": "58fe45f4",
   "metadata": {},
   "outputs": [],
   "source": [
    "# Creating the chart\n",
    "selected_locations = [\"København\", \"Frederiksberg\", \"Aarhus\", \"Odense\", \"Aalborg\"]\n",
    "# chart_title_en = \"Average price per m² for Denmark's four largest cities over time (incl. predictions)\"\n",
    "# chart_title_dk = \"Gennemsnitlig pris pr. m² over tid i Danmarks fire største byer (inkl. prognosetal)\""
   ]
  },
  {
   "cell_type": "markdown",
   "id": "ba30c5b8",
   "metadata": {},
   "source": [
    "### English"
   ]
  },
  {
   "cell_type": "code",
   "execution_count": 65,
   "id": "8059922e",
   "metadata": {},
   "outputs": [
    {
     "data": {
      "application/vnd.plotly.v1+json": {
       "config": {
        "plotlyServerURL": "https://plot.ly"
       },
       "data": [
        {
         "hovertemplate": "Municipality=Odense<br>Year=%{x}<br>Average price per m²=%{y}<extra></extra>",
         "legendgroup": "Odense",
         "line": {
          "color": "#1ea2b5",
          "dash": "solid"
         },
         "marker": {
          "symbol": "circle"
         },
         "mode": "lines",
         "name": "Odense",
         "orientation": "v",
         "showlegend": true,
         "textposition": "top center",
         "type": "scatter",
         "x": [
          2030,
          2029,
          2028,
          2027,
          2026,
          2025,
          2024,
          2023,
          2022,
          2021,
          2020,
          2019,
          2018,
          2017,
          2016,
          2015,
          2014,
          2013,
          2012,
          2011,
          2010,
          2009,
          2008,
          2007,
          2006,
          2005,
          2004,
          2003,
          2002,
          2001,
          2000,
          1999,
          1998,
          1997,
          1996,
          1995,
          1994,
          1993,
          1992
         ],
         "xaxis": "x",
         "y": [
          32194.1,
          30987.18,
          29784.71,
          28696.58,
          27507.57,
          26632.42,
          23039.21,
          22700.1,
          23399.65,
          24054.36,
          23077.56,
          22181.63,
          20409.41,
          18505.97,
          17426.79,
          16489.08,
          15575.32,
          14421.64,
          13842.63,
          13788.63,
          14791.87,
          14383.12,
          15619.79,
          16684.19,
          15789.56,
          12316.75,
          10470.78,
          8564.19,
          8276.89,
          8116.71,
          8105.24,
          7845.05,
          7587.72,
          6564.11,
          5862.6,
          5555.53,
          5208.18,
          4987.73,
          5482.81
         ],
         "yaxis": "y"
        },
        {
         "hovertemplate": "Municipality=København<br>Year=%{x}<br>Average price per m²=%{y}<extra></extra>",
         "legendgroup": "København",
         "line": {
          "color": "#324b4f",
          "dash": "solid"
         },
         "marker": {
          "symbol": "circle"
         },
         "mode": "lines",
         "name": "København",
         "orientation": "v",
         "showlegend": true,
         "textposition": "top center",
         "type": "scatter",
         "x": [
          2030,
          2029,
          2028,
          2027,
          2026,
          2025,
          2024,
          2023,
          2022,
          2021,
          2020,
          2019,
          2018,
          2017,
          2016,
          2015,
          2014,
          2013,
          2012,
          2011,
          2010,
          2009,
          2008,
          2007,
          2006,
          2005,
          2004,
          2003,
          2002,
          2001,
          2000,
          1999,
          1998,
          1997,
          1996,
          1995,
          1994,
          1993,
          1992
         ],
         "xaxis": "x",
         "y": [
          72231.83,
          69066.51,
          65913.65,
          63056.8,
          59940.66,
          57317.54,
          51678.38,
          48016.27,
          49571.68,
          48809.68,
          42515.65,
          39847.7,
          39727.66,
          37654.15,
          33995.55,
          30973.84,
          27589.14,
          25823.5,
          22846.58,
          23085.88,
          23329.19,
          21086.68,
          24415.54,
          27337,
          30874.37,
          25716.93,
          19698.79,
          17347.18,
          16323.78,
          14794.53,
          12551.35,
          10990.6,
          9151.77,
          7641.43,
          6582.55,
          5845.68,
          5677.85,
          5763.42,
          6067.25
         ],
         "yaxis": "y"
        },
        {
         "hovertemplate": "Municipality=Aalborg<br>Year=%{x}<br>Average price per m²=%{y}<extra></extra>",
         "legendgroup": "Aalborg",
         "line": {
          "color": "#95b0b5",
          "dash": "solid"
         },
         "marker": {
          "symbol": "circle"
         },
         "mode": "lines",
         "name": "Aalborg",
         "orientation": "v",
         "showlegend": true,
         "textposition": "top center",
         "type": "scatter",
         "x": [
          2030,
          2029,
          2028,
          2027,
          2026,
          2025,
          2024,
          2023,
          2022,
          2021,
          2020,
          2019,
          2018,
          2017,
          2016,
          2015,
          2014,
          2013,
          2012,
          2011,
          2010,
          2009,
          2008,
          2007,
          2006,
          2005,
          2004,
          2003,
          2002,
          2001,
          2000,
          1999,
          1998,
          1997,
          1996,
          1995,
          1994,
          1993,
          1992
         ],
         "xaxis": "x",
         "y": [
          27461.51,
          26496.68,
          25535.91,
          24664.1,
          23714.99,
          23340.76,
          20461.09,
          20123.51,
          20927.28,
          20811.79,
          20009.88,
          19922.63,
          20329.3,
          20212.86,
          18488.4,
          16734.57,
          15110.27,
          14502.29,
          13533.92,
          13356.23,
          13365.93,
          13213.92,
          13961.08,
          14793.65,
          13961.53,
          12140.1,
          10530.46,
          9037.75,
          8870.87,
          8697.71,
          8644.54,
          8282.67,
          7293.6,
          6343.6,
          5389.5,
          5021.33,
          4946.69,
          4747,
          4602.2
         ],
         "yaxis": "y"
        },
        {
         "hovertemplate": "Municipality=Aarhus<br>Year=%{x}<br>Average price per m²=%{y}<extra></extra>",
         "legendgroup": "Aarhus",
         "line": {
          "color": "#9f8ac3",
          "dash": "solid"
         },
         "marker": {
          "symbol": "circle"
         },
         "mode": "lines",
         "name": "Aarhus",
         "orientation": "v",
         "showlegend": true,
         "textposition": "top center",
         "type": "scatter",
         "x": [
          2030,
          2029,
          2028,
          2027,
          2026,
          2025,
          2024,
          2023,
          2022,
          2021,
          2020,
          2019,
          2018,
          2017,
          2016,
          2015,
          2014,
          2013,
          2012,
          2011,
          2010,
          2009,
          2008,
          2007,
          2006,
          2005,
          2004,
          2003,
          2002,
          2001,
          2000,
          1999,
          1998,
          1997,
          1996,
          1995,
          1994,
          1993,
          1992
         ],
         "xaxis": "x",
         "y": [
          50120.63,
          48313.69,
          46515.47,
          44878.6,
          43104.1,
          41791.14,
          37130.12,
          36696.58,
          38045.66,
          37418.47,
          33712.94,
          32057.62,
          32289.5,
          30879.16,
          29363.41,
          27559.54,
          25171.07,
          24030.89,
          22920.45,
          23421.16,
          23015.97,
          20783.77,
          23080.6,
          24855.15,
          27156.45,
          22735.59,
          18094.06,
          13256.77,
          12590.03,
          11873.97,
          11986.51,
          11462.11,
          10769.46,
          9490.17,
          8406.2,
          7386.24,
          7244.78,
          6695.03,
          6980.34
         ],
         "yaxis": "y"
        },
        {
         "hovertemplate": "Municipality=Frederiksberg<br>Year=%{x}<br>Average price per m²=%{y}<extra></extra>",
         "legendgroup": "Frederiksberg",
         "line": {
          "color": "#6b588d",
          "dash": "solid"
         },
         "marker": {
          "symbol": "circle"
         },
         "mode": "lines",
         "name": "Frederiksberg",
         "orientation": "v",
         "showlegend": true,
         "textposition": "top center",
         "type": "scatter",
         "x": [
          2030,
          2029,
          2028,
          2027,
          2026,
          2025,
          2024,
          2023,
          2022,
          2021,
          2020,
          2019,
          2018,
          2017,
          2016,
          2015,
          2014,
          2013,
          2012,
          2011,
          2010,
          2009,
          2008,
          2007,
          2006,
          2005,
          2004,
          2003,
          2002,
          2001,
          2000,
          1999,
          1998,
          1997,
          1996,
          1995,
          1994,
          1993,
          1992
         ],
         "xaxis": "x",
         "y": [
          94309.11,
          89973.39,
          85666.82,
          81708.46,
          77472.9,
          74106.88,
          66554.12,
          61971.56,
          64351.14,
          61273.78,
          52678.43,
          48640.06,
          48728.01,
          46695.2,
          43002.21,
          40658.3,
          35735.21,
          32835.83,
          28978.44,
          28353.02,
          27344.74,
          24474.42,
          27399.35,
          30934.14,
          33523.93,
          27820.15,
          20512.19,
          18281.5,
          17705,
          16223.25,
          14197,
          13061.25,
          11091.5,
          9563,
          8095.5,
          7112.75,
          6646.75,
          6365.25,
          6417.75
         ],
         "yaxis": "y"
        }
       ],
       "layout": {
        "legend": {
         "bgcolor": "rgba(255, 255, 255, 0.5)",
         "title": {
          "text": "Municipality"
         },
         "tracegroupgap": 0,
         "x": 0.5,
         "xanchor": "center",
         "y": 1.1,
         "yanchor": "bottom"
        },
        "margin": {
         "t": 60
        },
        "template": {
         "layout": {
          "colorway": [
           "#1ea2b5",
           "#324b4f",
           "#95b0b5",
           "#9f8ac3",
           "#6b588d"
          ]
         }
        },
        "xaxis": {
         "anchor": "y",
         "domain": [
          0,
          1
         ],
         "title": {
          "text": "Year"
         }
        },
        "yaxis": {
         "anchor": "x",
         "domain": [
          0,
          1
         ],
         "title": {
          "text": "Average price per m²"
         }
        }
       }
      }
     },
     "metadata": {},
     "output_type": "display_data"
    }
   ],
   "source": [
    "fig = plot_price(\n",
    "    sales_data,\n",
    "    \"AvgSalesPrice\",\n",
    "    \"en\",\n",
    "    selected_locations,\n",
    "    [\"Actual price\", \"Predicted price\"],\n",
    ")\n",
    "\n",
    "# Export to a standalone HTML file\n",
    "html_str = pio.to_html(fig, full_html=False, include_plotlyjs=\"cdn\")\n",
    "with open(\"Charts/Figure8_EN.html\", \"w\", encoding=\"utf-8\") as f:\n",
    "    f.write(html_str)\n",
    "\n",
    "# Exporting as a PNG file\n",
    "# fig.write_image(\"Charts/Figure8_EN.png\")\n",
    "\n",
    "# Previewing\n",
    "fig"
   ]
  },
  {
   "cell_type": "markdown",
   "id": "48860146",
   "metadata": {},
   "source": [
    "### Danish"
   ]
  },
  {
   "cell_type": "code",
   "execution_count": 66,
   "id": "0e22910e",
   "metadata": {},
   "outputs": [
    {
     "data": {
      "application/vnd.plotly.v1+json": {
       "config": {
        "plotlyServerURL": "https://plot.ly"
       },
       "data": [
        {
         "hovertemplate": "Kommune=Odense<br>År=%{x}<br>Gennemsnitlig pris pr. m²=%{y}<extra></extra>",
         "legendgroup": "Odense",
         "line": {
          "color": "#1ea2b5",
          "dash": "solid"
         },
         "marker": {
          "symbol": "circle"
         },
         "mode": "lines",
         "name": "Odense",
         "orientation": "v",
         "showlegend": true,
         "textposition": "top center",
         "type": "scatter",
         "x": [
          2030,
          2029,
          2028,
          2027,
          2026,
          2025,
          2024,
          2023,
          2022,
          2021,
          2020,
          2019,
          2018,
          2017,
          2016,
          2015,
          2014,
          2013,
          2012,
          2011,
          2010,
          2009,
          2008,
          2007,
          2006,
          2005,
          2004,
          2003,
          2002,
          2001,
          2000,
          1999,
          1998,
          1997,
          1996,
          1995,
          1994,
          1993,
          1992
         ],
         "xaxis": "x",
         "y": [
          32194.1,
          30987.18,
          29784.71,
          28696.58,
          27507.57,
          26632.42,
          23039.21,
          22700.1,
          23399.65,
          24054.36,
          23077.56,
          22181.63,
          20409.41,
          18505.97,
          17426.79,
          16489.08,
          15575.32,
          14421.64,
          13842.63,
          13788.63,
          14791.87,
          14383.12,
          15619.79,
          16684.19,
          15789.56,
          12316.75,
          10470.78,
          8564.19,
          8276.89,
          8116.71,
          8105.24,
          7845.05,
          7587.72,
          6564.11,
          5862.6,
          5555.53,
          5208.18,
          4987.73,
          5482.81
         ],
         "yaxis": "y"
        },
        {
         "hovertemplate": "Kommune=København<br>År=%{x}<br>Gennemsnitlig pris pr. m²=%{y}<extra></extra>",
         "legendgroup": "København",
         "line": {
          "color": "#324b4f",
          "dash": "solid"
         },
         "marker": {
          "symbol": "circle"
         },
         "mode": "lines",
         "name": "København",
         "orientation": "v",
         "showlegend": true,
         "textposition": "top center",
         "type": "scatter",
         "x": [
          2030,
          2029,
          2028,
          2027,
          2026,
          2025,
          2024,
          2023,
          2022,
          2021,
          2020,
          2019,
          2018,
          2017,
          2016,
          2015,
          2014,
          2013,
          2012,
          2011,
          2010,
          2009,
          2008,
          2007,
          2006,
          2005,
          2004,
          2003,
          2002,
          2001,
          2000,
          1999,
          1998,
          1997,
          1996,
          1995,
          1994,
          1993,
          1992
         ],
         "xaxis": "x",
         "y": [
          72231.83,
          69066.51,
          65913.65,
          63056.8,
          59940.66,
          57317.54,
          51678.38,
          48016.27,
          49571.68,
          48809.68,
          42515.65,
          39847.7,
          39727.66,
          37654.15,
          33995.55,
          30973.84,
          27589.14,
          25823.5,
          22846.58,
          23085.88,
          23329.19,
          21086.68,
          24415.54,
          27337,
          30874.37,
          25716.93,
          19698.79,
          17347.18,
          16323.78,
          14794.53,
          12551.35,
          10990.6,
          9151.77,
          7641.43,
          6582.55,
          5845.68,
          5677.85,
          5763.42,
          6067.25
         ],
         "yaxis": "y"
        },
        {
         "hovertemplate": "Kommune=Aalborg<br>År=%{x}<br>Gennemsnitlig pris pr. m²=%{y}<extra></extra>",
         "legendgroup": "Aalborg",
         "line": {
          "color": "#95b0b5",
          "dash": "solid"
         },
         "marker": {
          "symbol": "circle"
         },
         "mode": "lines",
         "name": "Aalborg",
         "orientation": "v",
         "showlegend": true,
         "textposition": "top center",
         "type": "scatter",
         "x": [
          2030,
          2029,
          2028,
          2027,
          2026,
          2025,
          2024,
          2023,
          2022,
          2021,
          2020,
          2019,
          2018,
          2017,
          2016,
          2015,
          2014,
          2013,
          2012,
          2011,
          2010,
          2009,
          2008,
          2007,
          2006,
          2005,
          2004,
          2003,
          2002,
          2001,
          2000,
          1999,
          1998,
          1997,
          1996,
          1995,
          1994,
          1993,
          1992
         ],
         "xaxis": "x",
         "y": [
          27461.51,
          26496.68,
          25535.91,
          24664.1,
          23714.99,
          23340.76,
          20461.09,
          20123.51,
          20927.28,
          20811.79,
          20009.88,
          19922.63,
          20329.3,
          20212.86,
          18488.4,
          16734.57,
          15110.27,
          14502.29,
          13533.92,
          13356.23,
          13365.93,
          13213.92,
          13961.08,
          14793.65,
          13961.53,
          12140.1,
          10530.46,
          9037.75,
          8870.87,
          8697.71,
          8644.54,
          8282.67,
          7293.6,
          6343.6,
          5389.5,
          5021.33,
          4946.69,
          4747,
          4602.2
         ],
         "yaxis": "y"
        },
        {
         "hovertemplate": "Kommune=Aarhus<br>År=%{x}<br>Gennemsnitlig pris pr. m²=%{y}<extra></extra>",
         "legendgroup": "Aarhus",
         "line": {
          "color": "#9f8ac3",
          "dash": "solid"
         },
         "marker": {
          "symbol": "circle"
         },
         "mode": "lines",
         "name": "Aarhus",
         "orientation": "v",
         "showlegend": true,
         "textposition": "top center",
         "type": "scatter",
         "x": [
          2030,
          2029,
          2028,
          2027,
          2026,
          2025,
          2024,
          2023,
          2022,
          2021,
          2020,
          2019,
          2018,
          2017,
          2016,
          2015,
          2014,
          2013,
          2012,
          2011,
          2010,
          2009,
          2008,
          2007,
          2006,
          2005,
          2004,
          2003,
          2002,
          2001,
          2000,
          1999,
          1998,
          1997,
          1996,
          1995,
          1994,
          1993,
          1992
         ],
         "xaxis": "x",
         "y": [
          50120.63,
          48313.69,
          46515.47,
          44878.6,
          43104.1,
          41791.14,
          37130.12,
          36696.58,
          38045.66,
          37418.47,
          33712.94,
          32057.62,
          32289.5,
          30879.16,
          29363.41,
          27559.54,
          25171.07,
          24030.89,
          22920.45,
          23421.16,
          23015.97,
          20783.77,
          23080.6,
          24855.15,
          27156.45,
          22735.59,
          18094.06,
          13256.77,
          12590.03,
          11873.97,
          11986.51,
          11462.11,
          10769.46,
          9490.17,
          8406.2,
          7386.24,
          7244.78,
          6695.03,
          6980.34
         ],
         "yaxis": "y"
        },
        {
         "hovertemplate": "Kommune=Frederiksberg<br>År=%{x}<br>Gennemsnitlig pris pr. m²=%{y}<extra></extra>",
         "legendgroup": "Frederiksberg",
         "line": {
          "color": "#6b588d",
          "dash": "solid"
         },
         "marker": {
          "symbol": "circle"
         },
         "mode": "lines",
         "name": "Frederiksberg",
         "orientation": "v",
         "showlegend": true,
         "textposition": "top center",
         "type": "scatter",
         "x": [
          2030,
          2029,
          2028,
          2027,
          2026,
          2025,
          2024,
          2023,
          2022,
          2021,
          2020,
          2019,
          2018,
          2017,
          2016,
          2015,
          2014,
          2013,
          2012,
          2011,
          2010,
          2009,
          2008,
          2007,
          2006,
          2005,
          2004,
          2003,
          2002,
          2001,
          2000,
          1999,
          1998,
          1997,
          1996,
          1995,
          1994,
          1993,
          1992
         ],
         "xaxis": "x",
         "y": [
          94309.11,
          89973.39,
          85666.82,
          81708.46,
          77472.9,
          74106.88,
          66554.12,
          61971.56,
          64351.14,
          61273.78,
          52678.43,
          48640.06,
          48728.01,
          46695.2,
          43002.21,
          40658.3,
          35735.21,
          32835.83,
          28978.44,
          28353.02,
          27344.74,
          24474.42,
          27399.35,
          30934.14,
          33523.93,
          27820.15,
          20512.19,
          18281.5,
          17705,
          16223.25,
          14197,
          13061.25,
          11091.5,
          9563,
          8095.5,
          7112.75,
          6646.75,
          6365.25,
          6417.75
         ],
         "yaxis": "y"
        }
       ],
       "layout": {
        "legend": {
         "bgcolor": "rgba(255, 255, 255, 0.5)",
         "title": {
          "text": "Kommune"
         },
         "tracegroupgap": 0,
         "x": 0.5,
         "xanchor": "center",
         "y": 1.1,
         "yanchor": "bottom"
        },
        "margin": {
         "t": 60
        },
        "template": {
         "layout": {
          "colorway": [
           "#1ea2b5",
           "#324b4f",
           "#95b0b5",
           "#9f8ac3",
           "#6b588d"
          ]
         }
        },
        "xaxis": {
         "anchor": "y",
         "domain": [
          0,
          1
         ],
         "title": {
          "text": "År"
         }
        },
        "yaxis": {
         "anchor": "x",
         "domain": [
          0,
          1
         ],
         "title": {
          "text": "Gennemsnitlig pris pr. m²"
         }
        }
       }
      }
     },
     "metadata": {},
     "output_type": "display_data"
    }
   ],
   "source": [
    "fig = plot_price(\n",
    "    sales_data,\n",
    "    \"AvgSalesPrice\",\n",
    "    \"dk\",\n",
    "    selected_locations,\n",
    "    [\"Actual price\", \"Predicted price\"],\n",
    ")\n",
    "\n",
    "# Export to a standalone HTML file\n",
    "html_str = pio.to_html(fig, full_html=False, include_plotlyjs=\"cdn\")\n",
    "with open(\"Charts/Figure8_DK.html\", \"w\", encoding=\"utf-8\") as f:\n",
    "    f.write(html_str)\n",
    "\n",
    "# Exporting as a PNG file\n",
    "# fig.write_image(\"Charts/Figure8_DK.png\")\n",
    "\n",
    "# Previewing\n",
    "fig"
   ]
  },
  {
   "cell_type": "code",
   "execution_count": 67,
   "id": "866b89f9",
   "metadata": {},
   "outputs": [
    {
     "name": "stdout",
     "output_type": "stream",
     "text": [
      "DONE.\n"
     ]
    }
   ],
   "source": [
    "print(\"DONE.\")"
   ]
  },
  {
   "cell_type": "code",
   "execution_count": null,
   "id": "0b4a52cf",
   "metadata": {},
   "outputs": [],
   "source": []
  }
 ],
 "metadata": {
  "kernelspec": {
   "display_name": "Python 3",
   "language": "python",
   "name": "python3"
  },
  "language_info": {
   "codemirror_mode": {
    "name": "ipython",
    "version": 3
   },
   "file_extension": ".py",
   "mimetype": "text/x-python",
   "name": "python",
   "nbconvert_exporter": "python",
   "pygments_lexer": "ipython3",
   "version": "3.11.1"
  }
 },
 "nbformat": 4,
 "nbformat_minor": 5
}
