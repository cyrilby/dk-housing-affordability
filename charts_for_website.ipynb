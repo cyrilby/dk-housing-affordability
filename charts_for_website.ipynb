{
 "cells": [
  {
   "cell_type": "markdown",
   "id": "081627e8",
   "metadata": {},
   "source": [
    "# Charts for my website\n",
    "\n",
    "- Author: Kiril from Mindgraph\n",
    "- Last meaningful update: 15-04-2025\n",
    "\n",
    "This notebook creates some `plotly` charts for [my website](www.mindgraph.dk). The charts are displayed as visuals in this notebook and also exported to `.html` files on GitHub so that they can be directly embedded on the website."
   ]
  },
  {
   "cell_type": "code",
   "execution_count": 54,
   "id": "b30476aa",
   "metadata": {},
   "outputs": [],
   "source": [
    "import pandas as pd\n",
    "import numpy as np\n",
    "import plotly.express as px\n",
    "import plotly.io as pio"
   ]
  },
  {
   "cell_type": "code",
   "execution_count": 55,
   "id": "5443ef94",
   "metadata": {},
   "outputs": [],
   "source": [
    "# Importing data\n",
    "sales_data = pd.read_parquet(\"Output data/FinalSalesAndIncome.parquet\")\n",
    "indexed_development = pd.read_parquet(\"Output data/IndexedDevelopment.parquet\")\n",
    "\n",
    "# Getting min and max years for historical data\n",
    "min_hist = sales_data[sales_data[\"PriceType\"] == \"Actual price\"][\"Year\"].min()\n",
    "max_hist = sales_data[sales_data[\"PriceType\"] == \"Actual price\"][\"Year\"].max()"
   ]
  },
  {
   "cell_type": "code",
   "execution_count": 56,
   "id": "29caed7d",
   "metadata": {},
   "outputs": [],
   "source": [
    "# # Changing to the default color palette in plotly\n",
    "# pio.templates.default = \"plotly\""
   ]
  },
  {
   "cell_type": "code",
   "execution_count": 57,
   "id": "d8515375",
   "metadata": {},
   "outputs": [],
   "source": [
    "# Creating a custom color palette with the MG colors\n",
    "# Using the \"Classy\" palette from: https://mycolor.space/?hex=%231EA2B5&sub=1\n",
    "my_custom_palette = [\"#1ea2b5\", \"#324b4f\", \"#95b0b5\", \"#9f8ac3\", \"#6b588d\"]\n",
    "my_template = pio.templates[\"plotly_white\"].layout.template\n",
    "my_template.layout.colorway = my_custom_palette\n",
    "pio.templates[\"my_custom_template\"] = my_template\n",
    "pio.templates.default = \"my_custom_template\""
   ]
  },
  {
   "cell_type": "markdown",
   "id": "27292ed4",
   "metadata": {},
   "source": [
    "## Template functions for chart\n",
    "\n",
    "If we need to recreate the same chart with different subsamples of the data, it makes more sense to store the chart as a function:"
   ]
  },
  {
   "cell_type": "code",
   "execution_count": 58,
   "id": "e414285d",
   "metadata": {},
   "outputs": [],
   "source": [
    "def plot_price(\n",
    "    sales_data: pd.DataFrame,\n",
    "    metric_for_use: str,\n",
    "    chart_title: str,\n",
    "    selected_locations: list[str],\n",
    "    price_types: list[str],\n",
    ") -> None:\n",
    "\n",
    "    # Preparing data for chart\n",
    "    data_to_display = sales_data.copy()\n",
    "    data_to_display = data_to_display[\n",
    "        data_to_display[\"Municipality\"].isin(selected_locations)\n",
    "    ]\n",
    "    data_to_display = data_to_display[\n",
    "        data_to_display[\"PriceType\"].isin(price_types)\n",
    "    ].copy()\n",
    "\n",
    "    # Rounding off to 2 decimals\n",
    "    data_to_display[metric_for_use] = np.round(data_to_display[metric_for_use], 2)\n",
    "\n",
    "    # Sorting and cleaning up\n",
    "    data_to_display.sort_values(\"Year\", ascending=False, inplace=True)\n",
    "    data_to_display.reset_index(inplace=True, drop=True)\n",
    "\n",
    "    # Identifying the selected municipalities\n",
    "    unique_mncp = data_to_display[\"Municipality\"].unique()\n",
    "\n",
    "    # Checking whether multiple municipalities are selected\n",
    "    if len(unique_mncp) > 1:\n",
    "        color_var_for_chart = \"Municipality\"\n",
    "    else:\n",
    "        color_var_for_chart = None\n",
    "\n",
    "    # Preparing text-based descriptions of the metrics\n",
    "    if metric_for_use == \"AvgSalesPrice\":\n",
    "        metric_for_use_txt = \"Average price per m²\"\n",
    "    elif metric_for_use == \"AvgSalesPriceIdx\":\n",
    "        metric_for_use_txt = \"Average price per m² (indexed)\"\n",
    "    elif metric_for_use == \"M2AffordedTotal\":\n",
    "        metric_for_use_txt = \"m² buyable with annual disposable income\"\n",
    "    elif metric_for_use == \"YearsoBuy50M2Total\":\n",
    "        metric_for_use_txt = \"Years of annual income needed to buy 50 m²\"\n",
    "    else:\n",
    "        metric_for_use_txt = \"Unknown\"\n",
    "\n",
    "    # Plotting the data on a chart\n",
    "    fig = px.line(\n",
    "        data_to_display,\n",
    "        x=\"Year\",\n",
    "        y=metric_for_use,\n",
    "        color=color_var_for_chart,\n",
    "        labels={\n",
    "            \"Year\": \"Year\",\n",
    "            metric_for_use: metric_for_use_txt,\n",
    "        },\n",
    "    )\n",
    "    fig.update_layout({\"title\": chart_title})\n",
    "    fig.update_traces(textposition=\"top center\")\n",
    "    fig\n",
    "    return fig"
   ]
  },
  {
   "cell_type": "markdown",
   "id": "658d09b2",
   "metadata": {},
   "source": [
    "## Figure 1"
   ]
  },
  {
   "cell_type": "code",
   "execution_count": 59,
   "id": "a33091b3",
   "metadata": {},
   "outputs": [],
   "source": [
    "# Setting user parameters\n",
    "n_mncp_to_show = 15\n",
    "price_types = [\"Actual price\"]\n",
    "chart_title = f\"The {n_mncp_to_show} municipalities with the highest price increase between {min_hist}-{max_hist}\""
   ]
  },
  {
   "cell_type": "code",
   "execution_count": 60,
   "id": "e9319244",
   "metadata": {},
   "outputs": [
    {
     "data": {
      "application/vnd.plotly.v1+json": {
       "config": {
        "plotlyServerURL": "https://plot.ly"
       },
       "data": [
        {
         "alignmentgroup": "True",
         "hovertemplate": "% change in average price per m²=%{x}<br>Municipality=%{y}<extra></extra>",
         "legendgroup": "",
         "marker": {
          "color": "#1ea2b5",
          "pattern": {
           "shape": ""
          }
         },
         "name": "",
         "offsetgroup": "",
         "orientation": "h",
         "showlegend": false,
         "textposition": "auto",
         "type": "bar",
         "x": [
          433.6,
          436.8,
          441,
          449.1,
          459.8,
          473.6,
          473.9,
          483.9,
          490.8,
          499.3,
          523.1,
          557.5,
          750.3,
          751.8,
          937
         ],
         "xaxis": "x",
         "y": [
          "Billund",
          "Skanderborg",
          "Gentofte",
          "Egedal",
          "Roskilde",
          "Hørsholm",
          "Dragør",
          "Gribskov",
          "Favrskov",
          "Rebild",
          "Ringkøbing-Skjern",
          "Jammerbugt",
          "Vejen",
          "København",
          "Frederiksberg"
         ],
         "yaxis": "y"
        }
       ],
       "layout": {
        "barmode": "relative",
        "legend": {
         "tracegroupgap": 0
        },
        "template": {
         "layout": {
          "colorway": [
           "#1ea2b5",
           "#324b4f",
           "#95b0b5",
           "#9f8ac3",
           "#6b588d"
          ]
         }
        },
        "title": {
         "text": "Top 15 municipalities in 2024 with the highest change in price per m² relative to 1992"
        },
        "xaxis": {
         "anchor": "y",
         "domain": [
          0,
          1
         ],
         "title": {
          "text": "% change in average price per m²"
         }
        },
        "yaxis": {
         "anchor": "x",
         "domain": [
          0,
          1
         ],
         "title": {
          "text": "Municipality"
         }
        }
       }
      }
     },
     "metadata": {},
     "output_type": "display_data"
    }
   ],
   "source": [
    "# Filtering the data and sorting in the appropriate order\n",
    "data_for_plot = sales_data.copy()\n",
    "data_for_plot = data_for_plot[data_for_plot[\"Year\"] == max_hist].copy()\n",
    "data_for_plot = data_for_plot[\n",
    "    data_for_plot[\"Municipality\"] != \"National average\"\n",
    "].copy()\n",
    "data_for_plot.sort_values(\"AvgSalesPriceChange\", ascending=False, inplace=True)\n",
    "data_for_plot.reset_index(inplace=True, drop=True)\n",
    "data_for_plot = data_for_plot[:n_mncp_to_show].copy()\n",
    "data_for_plot.sort_values(\"AvgSalesPriceChange\", inplace=True)\n",
    "\n",
    "# Plotting the data on a chart\n",
    "fig = px.bar(\n",
    "    data_for_plot,\n",
    "    x=\"AvgSalesPriceChange\",\n",
    "    y=\"Municipality\",\n",
    "    orientation=\"h\",\n",
    "    title=f\"Top {n_mncp_to_show} municipalities in {max_hist} with the highest change in price per m² relative to 1992\",\n",
    "    labels={\n",
    "        \"Municipality\": \"Municipality\",\n",
    "        \"AvgSalesPriceChange\": \"% change in average price per m²\",\n",
    "    },\n",
    ")\n",
    "fig"
   ]
  },
  {
   "cell_type": "code",
   "execution_count": 61,
   "id": "2b8f7717",
   "metadata": {},
   "outputs": [],
   "source": [
    "# Export to a standalone HTML file\n",
    "html_str = pio.to_html(fig, full_html=False, include_plotlyjs=\"cdn\")\n",
    "with open(\"Charts/Figure1.html\", \"w\", encoding=\"utf-8\") as f:\n",
    "    f.write(html_str)"
   ]
  },
  {
   "cell_type": "code",
   "execution_count": 62,
   "id": "49982583",
   "metadata": {},
   "outputs": [],
   "source": [
    "# Exporting as a PNG file (requires the \"kaleido\" package)\n",
    "fig.write_image(\"Charts/Figure1.png\")"
   ]
  },
  {
   "cell_type": "markdown",
   "id": "ebd48bef",
   "metadata": {},
   "source": [
    "## Figure 2"
   ]
  },
  {
   "cell_type": "code",
   "execution_count": 63,
   "id": "8a09d3a5",
   "metadata": {},
   "outputs": [],
   "source": [
    "# Setting user parameters\n",
    "n_mncp_to_show = 15\n",
    "price_types = [\"Actual price\"]\n",
    "chart_title = f\"The {n_mncp_to_show} most expensive municipalities for buying a flat in {max_hist}\""
   ]
  },
  {
   "cell_type": "code",
   "execution_count": 64,
   "id": "df1f7b1c",
   "metadata": {},
   "outputs": [
    {
     "data": {
      "application/vnd.plotly.v1+json": {
       "config": {
        "plotlyServerURL": "https://plot.ly"
       },
       "data": [
        {
         "alignmentgroup": "True",
         "hovertemplate": "Average sales price per m²=%{x}<br>Municipality=%{y}<extra></extra>",
         "legendgroup": "",
         "marker": {
          "color": "#1ea2b5",
          "pattern": {
           "shape": ""
          }
         },
         "name": "",
         "offsetgroup": "",
         "orientation": "h",
         "showlegend": false,
         "textposition": "auto",
         "type": "bar",
         "x": [
          30411.60606060606,
          30629.65338645418,
          31815.847826086956,
          32265.135626408017,
          32280.842789163078,
          32655.458333333332,
          35225.85996656344,
          36955.44827586207,
          37130.123750960796,
          37278.70760233918,
          40555,
          43378.39663865546,
          45451,
          51678.38170347003,
          66554.11877394636
         ],
         "xaxis": "x",
         "y": [
          "Ballerup",
          "Brøndby",
          "Greve",
          "Skanderborg",
          "Roskilde",
          "Gladsaxe",
          "Vejen",
          "Rudersdal",
          "Aarhus",
          "Lyngby-Taarbæk",
          "Dragør",
          "Gentofte",
          "Hørsholm",
          "København",
          "Frederiksberg"
         ],
         "yaxis": "y"
        }
       ],
       "layout": {
        "barmode": "relative",
        "legend": {
         "tracegroupgap": 0
        },
        "template": {
         "layout": {
          "colorway": [
           "#1ea2b5",
           "#324b4f",
           "#95b0b5",
           "#9f8ac3",
           "#6b588d"
          ]
         }
        },
        "title": {
         "text": "Top 15 most expensive municipalities in 2024"
        },
        "xaxis": {
         "anchor": "y",
         "domain": [
          0,
          1
         ],
         "title": {
          "text": "Average sales price per m²"
         }
        },
        "yaxis": {
         "anchor": "x",
         "domain": [
          0,
          1
         ],
         "title": {
          "text": "Municipality"
         }
        }
       }
      }
     },
     "metadata": {},
     "output_type": "display_data"
    }
   ],
   "source": [
    "# Filtering the data and sorting in the appropriate order\n",
    "data_for_plot = sales_data[sales_data[\"Year\"] == max_hist].copy()\n",
    "data_for_plot = data_for_plot[\n",
    "    data_for_plot[\"Municipality\"] != \"National average\"\n",
    "].copy()\n",
    "data_for_plot.sort_values(\"AvgSalesPrice\", ascending=False, inplace=True)\n",
    "data_for_plot.reset_index(inplace=True, drop=True)\n",
    "data_for_plot = data_for_plot[:n_mncp_to_show].copy()\n",
    "data_for_plot.sort_values(\"AvgSalesPrice\", inplace=True)\n",
    "\n",
    "# Plotting the data on a chart\n",
    "fig = px.bar(\n",
    "    data_for_plot,\n",
    "    x=\"AvgSalesPrice\",\n",
    "    y=\"Municipality\",\n",
    "    orientation=\"h\",\n",
    "    title=f\"Top {n_mncp_to_show} most expensive municipalities in {max_hist}\",\n",
    "    labels={\n",
    "        \"Municipality\": \"Municipality\",\n",
    "        \"AvgSalesPrice\": \"Average sales price per m²\",\n",
    "    },\n",
    ")\n",
    "fig"
   ]
  },
  {
   "cell_type": "code",
   "execution_count": 65,
   "id": "a70e7e66",
   "metadata": {},
   "outputs": [],
   "source": [
    "# Export to a standalone HTML file\n",
    "html_str = pio.to_html(fig, full_html=False, include_plotlyjs=\"cdn\")\n",
    "with open(\"Charts/Figure2.html\", \"w\", encoding=\"utf-8\") as f:\n",
    "    f.write(html_str)"
   ]
  },
  {
   "cell_type": "code",
   "execution_count": 66,
   "id": "c1781698",
   "metadata": {},
   "outputs": [],
   "source": [
    "# Exporting as a PNG file\n",
    "fig.write_image(\"Charts/Figure2.png\")"
   ]
  },
  {
   "cell_type": "markdown",
   "id": "734f56f1",
   "metadata": {},
   "source": [
    "## Figure 3"
   ]
  },
  {
   "cell_type": "code",
   "execution_count": 67,
   "id": "ad3d8dea",
   "metadata": {},
   "outputs": [],
   "source": [
    "# Setting user parameters\n",
    "price_types = [\"Actual price\"]\n",
    "chart_title = (\n",
    "    \"Indexed sales price, national disposable income and national GDP over time\"\n",
    ")"
   ]
  },
  {
   "cell_type": "code",
   "execution_count": 68,
   "id": "118b9be6",
   "metadata": {},
   "outputs": [],
   "source": [
    "# Preparing data for chart\n",
    "data_to_display = indexed_development[\n",
    "    indexed_development[\"Municipality\"] == \"National average\"\n",
    "]\n",
    "data_to_display = data_to_display[data_to_display[\"PriceType\"].isin(price_types)].copy()\n",
    "\n",
    "# Sorting and cleaning up\n",
    "data_to_display.sort_values(\"Year\", ascending=False, inplace=True)\n",
    "data_to_display.reset_index(inplace=True, drop=True)\n",
    "\n",
    "# Rounding all relevant metrics off to 2 decimals\n",
    "for metric in [\n",
    "    \"AvgSalesPriceIdx\",\n",
    "    \"AvgDispIncomeIdx\",\n",
    "    \"GDPIdx\",\n",
    "]:\n",
    "    data_to_display[metric] = np.round(data_to_display[metric], 2)\n",
    "\n",
    "# Converting the data to the long format before plotting\n",
    "value_vars = [\"AvgSalesPriceIdx\", \"AvgDispIncomeIdx\", \"GDPIdx\"]\n",
    "vars_mapping = {\n",
    "    \"AvgSalesPriceIdx\": \"Average sales price (indexed)\",\n",
    "    \"AvgDispIncomeIdx\": \"Average disposable income (indexed)\",\n",
    "    \"GDPIdx\": \"GDP (indexed)\",\n",
    "}\n",
    "data_to_display = pd.melt(\n",
    "    data_to_display,\n",
    "    id_vars=\"Year\",\n",
    "    value_vars=value_vars,\n",
    "    var_name=\"Indicator\",\n",
    "    value_name=\"Index\",\n",
    ")\n",
    "data_to_display[\"Indicator\"] = data_to_display[\"Indicator\"].map(vars_mapping)"
   ]
  },
  {
   "cell_type": "code",
   "execution_count": 69,
   "id": "8ba04d9a",
   "metadata": {},
   "outputs": [
    {
     "data": {
      "application/vnd.plotly.v1+json": {
       "config": {
        "plotlyServerURL": "https://plot.ly"
       },
       "data": [
        {
         "hovertemplate": "Indicator=Average sales price (indexed)<br>Year=%{x}<br>Index=%{y}<extra></extra>",
         "legendgroup": "Average sales price (indexed)",
         "line": {
          "color": "#1ea2b5",
          "dash": "solid"
         },
         "marker": {
          "symbol": "circle"
         },
         "mode": "lines",
         "name": "Average sales price (indexed)",
         "orientation": "v",
         "showlegend": true,
         "textposition": "top center",
         "type": "scatter",
         "x": [
          2024,
          2023,
          2022,
          2021,
          2020,
          2019,
          2018,
          2017,
          2016,
          2015,
          2014,
          2013,
          2012,
          2011,
          2010,
          2009,
          2008,
          2007,
          2006,
          2005,
          2004,
          2003,
          2002,
          2001,
          2000,
          1999,
          1998,
          1997,
          1996,
          1995,
          1994,
          1993,
          1992
         ],
         "xaxis": "x",
         "y": [
          4.6,
          4.18,
          4.21,
          4,
          3.67,
          3.54,
          3.41,
          3.3,
          3.16,
          2.92,
          2.76,
          2.69,
          2.71,
          2.64,
          2.74,
          2.8,
          3.14,
          3.31,
          3.23,
          2.8,
          2.35,
          2.16,
          2,
          1.87,
          1.72,
          1.58,
          1.42,
          1.29,
          1.16,
          1.06,
          1.03,
          0.99,
          1
         ],
         "yaxis": "y"
        },
        {
         "hovertemplate": "Indicator=Average disposable income (indexed)<br>Year=%{x}<br>Index=%{y}<extra></extra>",
         "legendgroup": "Average disposable income (indexed)",
         "line": {
          "color": "#324b4f",
          "dash": "solid"
         },
         "marker": {
          "symbol": "circle"
         },
         "mode": "lines",
         "name": "Average disposable income (indexed)",
         "orientation": "v",
         "showlegend": true,
         "textposition": "top center",
         "type": "scatter",
         "x": [
          2024,
          2023,
          2022,
          2021,
          2020,
          2019,
          2018,
          2017,
          2016,
          2015,
          2014,
          2013,
          2012,
          2011,
          2010,
          2009,
          2008,
          2007,
          2006,
          2005,
          2004,
          2003,
          2002,
          2001,
          2000,
          1999,
          1998,
          1997,
          1996,
          1995,
          1994,
          1993,
          1992
         ],
         "xaxis": "x",
         "y": [
          2.97,
          2.84,
          2.71,
          2.71,
          2.59,
          2.47,
          2.39,
          2.34,
          2.27,
          2.24,
          2.18,
          2.14,
          2.08,
          2.03,
          1.99,
          1.82,
          1.8,
          1.82,
          1.77,
          1.71,
          1.64,
          1.55,
          1.51,
          1.46,
          1.41,
          1.35,
          1.31,
          1.26,
          1.21,
          1.16,
          1.11,
          1.03,
          1
         ],
         "yaxis": "y"
        },
        {
         "hovertemplate": "Indicator=GDP (indexed)<br>Year=%{x}<br>Index=%{y}<extra></extra>",
         "legendgroup": "GDP (indexed)",
         "line": {
          "color": "#95b0b5",
          "dash": "solid"
         },
         "marker": {
          "symbol": "circle"
         },
         "mode": "lines",
         "name": "GDP (indexed)",
         "orientation": "v",
         "showlegend": true,
         "textposition": "top center",
         "type": "scatter",
         "x": [
          2024,
          2023,
          2022,
          2021,
          2020,
          2019,
          2018,
          2017,
          2016,
          2015,
          2014,
          2013,
          2012,
          2011,
          2010,
          2009,
          2008,
          2007,
          2006,
          2005,
          2004,
          2003,
          2002,
          2001,
          2000,
          1999,
          1998,
          1997,
          1996,
          1995,
          1994,
          1993,
          1992
         ],
         "xaxis": "x",
         "y": [
          3.08,
          3.04,
          3.08,
          2.78,
          2.52,
          2.49,
          2.43,
          2.37,
          2.28,
          2.2,
          2.14,
          2.1,
          2.05,
          2,
          1.96,
          1.87,
          1.96,
          1.89,
          1.83,
          1.72,
          1.64,
          1.56,
          1.53,
          1.49,
          1.44,
          1.34,
          1.28,
          1.24,
          1.18,
          1.12,
          1.07,
          1,
          1
         ],
         "yaxis": "y"
        }
       ],
       "layout": {
        "legend": {
         "title": {
          "text": "Indicator"
         },
         "tracegroupgap": 0
        },
        "margin": {
         "t": 60
        },
        "template": {
         "layout": {
          "colorway": [
           "#1ea2b5",
           "#324b4f",
           "#95b0b5",
           "#9f8ac3",
           "#6b588d"
          ]
         }
        },
        "title": {
         "text": "Indexed sales price, national disposable income and national GDP over time"
        },
        "xaxis": {
         "anchor": "y",
         "domain": [
          0,
          1
         ],
         "title": {
          "text": "Year"
         }
        },
        "yaxis": {
         "anchor": "x",
         "domain": [
          0,
          1
         ],
         "title": {
          "text": "Index"
         }
        }
       }
      }
     },
     "metadata": {},
     "output_type": "display_data"
    }
   ],
   "source": [
    "# Plotting the data on a chart\n",
    "fig = px.line(\n",
    "    data_to_display,\n",
    "    x=\"Year\",\n",
    "    y=\"Index\",\n",
    "    color=\"Indicator\",\n",
    ")\n",
    "fig.update_layout({\"title\": chart_title})\n",
    "fig.update_traces(textposition=\"top center\")\n",
    "fig"
   ]
  },
  {
   "cell_type": "code",
   "execution_count": 70,
   "id": "6a915454",
   "metadata": {},
   "outputs": [],
   "source": [
    "# Export to a standalone HTML file\n",
    "html_str = pio.to_html(fig, full_html=False, include_plotlyjs=\"cdn\")\n",
    "with open(\"Charts/Figure3.html\", \"w\", encoding=\"utf-8\") as f:\n",
    "    f.write(html_str)"
   ]
  },
  {
   "cell_type": "code",
   "execution_count": 71,
   "id": "8a3059f1",
   "metadata": {},
   "outputs": [],
   "source": [
    "# Exporting as a PNG file\n",
    "fig.write_image(\"Charts/Figure3.png\")"
   ]
  },
  {
   "cell_type": "markdown",
   "id": "dabb28ec",
   "metadata": {},
   "source": [
    "## Figure 4"
   ]
  },
  {
   "cell_type": "code",
   "execution_count": 72,
   "id": "ec2d9c94",
   "metadata": {},
   "outputs": [
    {
     "data": {
      "application/vnd.plotly.v1+json": {
       "config": {
        "plotlyServerURL": "https://plot.ly"
       },
       "data": [
        {
         "hovertemplate": "Year=%{x}<br>m² buyable with annual disposable income=%{y}<extra></extra>",
         "legendgroup": "",
         "line": {
          "color": "#1ea2b5",
          "dash": "solid"
         },
         "marker": {
          "symbol": "circle"
         },
         "mode": "lines",
         "name": "",
         "orientation": "v",
         "showlegend": false,
         "textposition": "top center",
         "type": "scatter",
         "x": [
          2024,
          2023,
          2022,
          2021,
          2020,
          2019,
          2018,
          2017,
          2016,
          2015,
          2014,
          2013,
          2012,
          2011,
          2010,
          2009,
          2008,
          2007,
          2006,
          2005,
          2004,
          2003,
          2002,
          2001,
          2000,
          1999,
          1998,
          1997,
          1996,
          1995,
          1994,
          1993,
          1992
         ],
         "xaxis": "x",
         "y": [
          12.03,
          12.65,
          11.98,
          12.64,
          13.11,
          13.02,
          13.06,
          13.22,
          13.41,
          14.27,
          14.74,
          14.81,
          14.31,
          14.3,
          13.5,
          12.11,
          10.65,
          10.23,
          10.23,
          11.36,
          12.99,
          13.38,
          14.02,
          14.51,
          15.2,
          15.96,
          17.16,
          18.23,
          19.45,
          20.33,
          19.96,
          19.37,
          18.62
         ],
         "yaxis": "y"
        }
       ],
       "layout": {
        "legend": {
         "tracegroupgap": 0
        },
        "margin": {
         "t": 60
        },
        "template": {
         "layout": {
          "colorway": [
           "#1ea2b5",
           "#324b4f",
           "#95b0b5",
           "#9f8ac3",
           "#6b588d"
          ]
         }
        },
        "title": {
         "text": "Number of m² that can be bought with annual disposable income (national average)"
        },
        "xaxis": {
         "anchor": "y",
         "domain": [
          0,
          1
         ],
         "title": {
          "text": "Year"
         }
        },
        "yaxis": {
         "anchor": "x",
         "domain": [
          0,
          1
         ],
         "title": {
          "text": "m² buyable with annual disposable income"
         }
        }
       }
      }
     },
     "metadata": {},
     "output_type": "display_data"
    }
   ],
   "source": [
    "# Creating the chart\n",
    "selected_locations = [\"National average\"]\n",
    "chart_title = (\n",
    "    \"Number of m² that can be bought with annual disposable income (national average)\"\n",
    ")\n",
    "fig = plot_price(\n",
    "    sales_data, \"M2AffordedTotal\", chart_title, selected_locations, [\"Actual price\"]\n",
    ")\n",
    "fig"
   ]
  },
  {
   "cell_type": "code",
   "execution_count": 73,
   "id": "e5fab651",
   "metadata": {},
   "outputs": [],
   "source": [
    "# Export to a standalone HTML file\n",
    "html_str = pio.to_html(fig, full_html=False, include_plotlyjs=\"cdn\")\n",
    "with open(\"Charts/Figure4.html\", \"w\", encoding=\"utf-8\") as f:\n",
    "    f.write(html_str)"
   ]
  },
  {
   "cell_type": "code",
   "execution_count": 74,
   "id": "f7f16ef0",
   "metadata": {},
   "outputs": [],
   "source": [
    "# Exporting as a PNG file\n",
    "fig.write_image(\"Charts/Figure4.png\")"
   ]
  },
  {
   "cell_type": "markdown",
   "id": "e1a776d0",
   "metadata": {},
   "source": [
    "## Figure 5"
   ]
  },
  {
   "cell_type": "code",
   "execution_count": 75,
   "id": "ae9316bd",
   "metadata": {},
   "outputs": [
    {
     "data": {
      "application/vnd.plotly.v1+json": {
       "config": {
        "plotlyServerURL": "https://plot.ly"
       },
       "data": [
        {
         "hovertemplate": "Municipality=Odense<br>Year=%{x}<br>m² buyable with annual disposable income=%{y}<extra></extra>",
         "legendgroup": "Odense",
         "line": {
          "color": "#1ea2b5",
          "dash": "solid"
         },
         "marker": {
          "symbol": "circle"
         },
         "mode": "lines",
         "name": "Odense",
         "orientation": "v",
         "showlegend": true,
         "textposition": "top center",
         "type": "scatter",
         "x": [
          2024,
          2023,
          2022,
          2021,
          2020,
          2019,
          2018,
          2017,
          2016,
          2015,
          2014,
          2013,
          2012,
          2011,
          2010,
          2009,
          2008,
          2007,
          2006,
          2005,
          2004,
          2003,
          2002,
          2001,
          2000,
          1999,
          1998,
          1997,
          1996,
          1995,
          1994,
          1993,
          1992
         ],
         "xaxis": "x",
         "y": [
          11.43,
          11.03,
          10.18,
          9.9,
          9.82,
          9.81,
          10.39,
          11.17,
          11.65,
          12.2,
          12.61,
          13.38,
          13.54,
          13.56,
          12.47,
          11.87,
          10.61,
          9.92,
          10.01,
          12.4,
          14.06,
          16.34,
          16.41,
          16.16,
          15.69,
          15.69,
          15.83,
          17.45,
          18.75,
          19.11,
          19.52,
          19.15,
          16.85
         ],
         "yaxis": "y"
        },
        {
         "hovertemplate": "Municipality=København<br>Year=%{x}<br>m² buyable with annual disposable income=%{y}<extra></extra>",
         "legendgroup": "København",
         "line": {
          "color": "#324b4f",
          "dash": "solid"
         },
         "marker": {
          "symbol": "circle"
         },
         "mode": "lines",
         "name": "København",
         "orientation": "v",
         "showlegend": true,
         "textposition": "top center",
         "type": "scatter",
         "x": [
          2024,
          2023,
          2022,
          2021,
          2020,
          2019,
          2018,
          2017,
          2016,
          2015,
          2014,
          2013,
          2012,
          2011,
          2010,
          2009,
          2008,
          2007,
          2006,
          2005,
          2004,
          2003,
          2002,
          2001,
          2000,
          1999,
          1998,
          1997,
          1996,
          1995,
          1994,
          1993,
          1992
         ],
         "xaxis": "x",
         "y": [
          5.52,
          5.79,
          5.31,
          5.39,
          5.83,
          5.94,
          5.75,
          5.87,
          6.33,
          6.78,
          7.39,
          7.67,
          8.45,
          8.19,
          7.9,
          8.15,
          6.86,
          6.03,
          5.24,
          6.03,
          7.56,
          8.16,
          8.41,
          8.85,
          10.04,
          10.93,
          12.62,
          14.32,
          16.13,
          17.41,
          17.24,
          16,
          14.82
         ],
         "yaxis": "y"
        },
        {
         "hovertemplate": "Municipality=Aalborg<br>Year=%{x}<br>m² buyable with annual disposable income=%{y}<extra></extra>",
         "legendgroup": "Aalborg",
         "line": {
          "color": "#95b0b5",
          "dash": "solid"
         },
         "marker": {
          "symbol": "circle"
         },
         "mode": "lines",
         "name": "Aalborg",
         "orientation": "v",
         "showlegend": true,
         "textposition": "top center",
         "type": "scatter",
         "x": [
          2024,
          2023,
          2022,
          2021,
          2020,
          2019,
          2018,
          2017,
          2016,
          2015,
          2014,
          2013,
          2012,
          2011,
          2010,
          2009,
          2008,
          2007,
          2006,
          2005,
          2004,
          2003,
          2002,
          2001,
          2000,
          1999,
          1998,
          1997,
          1996,
          1995,
          1994,
          1993,
          1992
         ],
         "xaxis": "x",
         "y": [
          13.18,
          12.75,
          11.8,
          11.74,
          11.7,
          11.22,
          10.73,
          10.52,
          11.14,
          12.14,
          13.13,
          13.47,
          14.16,
          14.06,
          13.83,
          13.01,
          11.97,
          11.25,
          11.52,
          12.84,
          14.33,
          15.76,
          15.62,
          15.4,
          15.13,
          15.11,
          16.66,
          18.31,
          20.75,
          21.46,
          20.88,
          20.37,
          20.38
         ],
         "yaxis": "y"
        },
        {
         "hovertemplate": "Municipality=Aarhus<br>Year=%{x}<br>m² buyable with annual disposable income=%{y}<extra></extra>",
         "legendgroup": "Aarhus",
         "line": {
          "color": "#9f8ac3",
          "dash": "solid"
         },
         "marker": {
          "symbol": "circle"
         },
         "mode": "lines",
         "name": "Aarhus",
         "orientation": "v",
         "showlegend": true,
         "textposition": "top center",
         "type": "scatter",
         "x": [
          2024,
          2023,
          2022,
          2021,
          2020,
          2019,
          2018,
          2017,
          2016,
          2015,
          2014,
          2013,
          2012,
          2011,
          2010,
          2009,
          2008,
          2007,
          2006,
          2005,
          2004,
          2003,
          2002,
          2001,
          2000,
          1999,
          1998,
          1997,
          1996,
          1995,
          1994,
          1993,
          1992
         ],
         "xaxis": "x",
         "y": [
          7.76,
          7.38,
          6.88,
          7.02,
          7.42,
          7.48,
          7.26,
          7.41,
          7.53,
          7.98,
          8.4,
          8.62,
          8.73,
          8.38,
          8.38,
          8.55,
          7.48,
          7.02,
          6.26,
          7.24,
          8.6,
          11.17,
          11.36,
          11.61,
          11.13,
          11.29,
          11.62,
          12.64,
          13.72,
          15.07,
          14.62,
          14.78,
          13.76
         ],
         "yaxis": "y"
        },
        {
         "hovertemplate": "Municipality=Frederiksberg<br>Year=%{x}<br>m² buyable with annual disposable income=%{y}<extra></extra>",
         "legendgroup": "Frederiksberg",
         "line": {
          "color": "#6b588d",
          "dash": "solid"
         },
         "marker": {
          "symbol": "circle"
         },
         "mode": "lines",
         "name": "Frederiksberg",
         "orientation": "v",
         "showlegend": true,
         "textposition": "top center",
         "type": "scatter",
         "x": [
          2024,
          2023,
          2022,
          2021,
          2020,
          2019,
          2018,
          2017,
          2016,
          2015,
          2014,
          2013,
          2012,
          2011,
          2010,
          2009,
          2008,
          2007,
          2006,
          2005,
          2004,
          2003,
          2002,
          2001,
          2000,
          1999,
          1998,
          1997,
          1996,
          1995,
          1994,
          1993,
          1992
         ],
         "xaxis": "x",
         "y": [
          5.16,
          5.31,
          4.86,
          5.21,
          5.73,
          5.9,
          5.68,
          5.74,
          6.01,
          6.22,
          6.88,
          7.26,
          7.97,
          7.93,
          8.03,
          8.16,
          7.09,
          6.33,
          5.83,
          6.67,
          8.66,
          9.16,
          9.28,
          9.78,
          10.7,
          11.2,
          12.53,
          13.71,
          15.71,
          16.98,
          17.33,
          17.11,
          16.28
         ],
         "yaxis": "y"
        }
       ],
       "layout": {
        "legend": {
         "title": {
          "text": "Municipality"
         },
         "tracegroupgap": 0
        },
        "margin": {
         "t": 60
        },
        "template": {
         "layout": {
          "colorway": [
           "#1ea2b5",
           "#324b4f",
           "#95b0b5",
           "#9f8ac3",
           "#6b588d"
          ]
         }
        },
        "title": {
         "text": "Number of m² that can be bought with average annual disposable income in Denmark's four largest cities"
        },
        "xaxis": {
         "anchor": "y",
         "domain": [
          0,
          1
         ],
         "title": {
          "text": "Year"
         }
        },
        "yaxis": {
         "anchor": "x",
         "domain": [
          0,
          1
         ],
         "title": {
          "text": "m² buyable with annual disposable income"
         }
        }
       }
      }
     },
     "metadata": {},
     "output_type": "display_data"
    }
   ],
   "source": [
    "# Creating the chart\n",
    "selected_locations = [\"København\", \"Frederiksberg\", \"Aarhus\", \"Odense\", \"Aalborg\"]\n",
    "chart_title = \"Number of m² that can be bought with average annual disposable income in Denmark's four largest cities\"\n",
    "fig = plot_price(\n",
    "    sales_data, \"M2AffordedTotal\", chart_title, selected_locations, [\"Actual price\"]\n",
    ")\n",
    "fig"
   ]
  },
  {
   "cell_type": "code",
   "execution_count": 76,
   "id": "4d3bf136",
   "metadata": {},
   "outputs": [],
   "source": [
    "# Export to a standalone HTML file\n",
    "html_str = pio.to_html(fig, full_html=False, include_plotlyjs=\"cdn\")\n",
    "with open(\"Charts/Figure5.html\", \"w\", encoding=\"utf-8\") as f:\n",
    "    f.write(html_str)"
   ]
  },
  {
   "cell_type": "code",
   "execution_count": 77,
   "id": "83a94e68",
   "metadata": {},
   "outputs": [],
   "source": [
    "# Exporting as a PNG file\n",
    "fig.write_image(\"Charts/Figure5.png\")"
   ]
  },
  {
   "cell_type": "markdown",
   "id": "fe1e17c9",
   "metadata": {},
   "source": [
    "## Figure 6"
   ]
  },
  {
   "cell_type": "code",
   "execution_count": 78,
   "id": "9f843b75",
   "metadata": {},
   "outputs": [
    {
     "data": {
      "application/vnd.plotly.v1+json": {
       "config": {
        "plotlyServerURL": "https://plot.ly"
       },
       "data": [
        {
         "hovertemplate": "Municipality=Randers<br>Year=%{x}<br>m² buyable with annual disposable income=%{y}<extra></extra>",
         "legendgroup": "Randers",
         "line": {
          "color": "#1ea2b5",
          "dash": "solid"
         },
         "marker": {
          "symbol": "circle"
         },
         "mode": "lines",
         "name": "Randers",
         "orientation": "v",
         "showlegend": true,
         "textposition": "top center",
         "type": "scatter",
         "x": [
          2024,
          2023,
          2022,
          2021,
          2020,
          2019,
          2018,
          2017,
          2016,
          2015,
          2014,
          2013,
          2012,
          2011,
          2010,
          2009,
          2008,
          2007,
          2006,
          2005,
          2004,
          2003,
          2002,
          2001,
          2000,
          1999,
          1998,
          1997,
          1996,
          1995,
          1994,
          1993,
          1992
         ],
         "xaxis": "x",
         "y": [
          29.64,
          26.63,
          25,
          22.94,
          23.72,
          22.85,
          23.54,
          23.1,
          23.37,
          23.16,
          23.22,
          22.46,
          20.59,
          20.31,
          19.12,
          18.17,
          15.22,
          15.31,
          17.56,
          21.3,
          21.47,
          24.46,
          24.62,
          24.11,
          24.34,
          24.03,
          25.64,
          26.63,
          28,
          31.28,
          30.12,
          28.86,
          26.01
         ],
         "yaxis": "y"
        },
        {
         "hovertemplate": "Municipality=Brønderslev<br>Year=%{x}<br>m² buyable with annual disposable income=%{y}<extra></extra>",
         "legendgroup": "Brønderslev",
         "line": {
          "color": "#324b4f",
          "dash": "solid"
         },
         "marker": {
          "symbol": "circle"
         },
         "mode": "lines",
         "name": "Brønderslev",
         "orientation": "v",
         "showlegend": true,
         "textposition": "top center",
         "type": "scatter",
         "x": [
          2024,
          2023,
          2022,
          2021,
          2020,
          2019,
          2018,
          2017,
          2014,
          2012,
          2010,
          2007,
          2005
         ],
         "xaxis": "x",
         "y": [
          22.37,
          26.35,
          20.71,
          24.4,
          26.49,
          22.01,
          23.84,
          21.75,
          28.86,
          18.87,
          22.68,
          14.26,
          11.82
         ],
         "yaxis": "y"
        },
        {
         "hovertemplate": "Municipality=Faxe<br>Year=%{x}<br>m² buyable with annual disposable income=%{y}<extra></extra>",
         "legendgroup": "Faxe",
         "line": {
          "color": "#95b0b5",
          "dash": "solid"
         },
         "marker": {
          "symbol": "circle"
         },
         "mode": "lines",
         "name": "Faxe",
         "orientation": "v",
         "showlegend": true,
         "textposition": "top center",
         "type": "scatter",
         "x": [
          2023,
          2022,
          2021,
          2017,
          2008,
          2007,
          2005,
          2004,
          2003,
          2002,
          2000,
          1999,
          1998,
          1997,
          1996,
          1995,
          1994,
          1993,
          1992
         ],
         "xaxis": "x",
         "y": [
          14.81,
          16.55,
          15.99,
          17.6,
          9.62,
          9.55,
          13.42,
          14.18,
          12.84,
          12.78,
          13.9,
          14.17,
          14.24,
          15.49,
          16.83,
          16.69,
          15.14,
          16.82,
          15.03
         ],
         "yaxis": "y"
        }
       ],
       "layout": {
        "legend": {
         "title": {
          "text": "Municipality"
         },
         "tracegroupgap": 0
        },
        "margin": {
         "t": 60
        },
        "template": {
         "layout": {
          "colorway": [
           "#1ea2b5",
           "#324b4f",
           "#95b0b5",
           "#9f8ac3",
           "#6b588d"
          ]
         }
        },
        "title": {
         "text": "Number of m² that can be bought with average annual disposable income in municipalities that do not follow the general trend"
        },
        "xaxis": {
         "anchor": "y",
         "domain": [
          0,
          1
         ],
         "title": {
          "text": "Year"
         }
        },
        "yaxis": {
         "anchor": "x",
         "domain": [
          0,
          1
         ],
         "title": {
          "text": "m² buyable with annual disposable income"
         }
        }
       }
      }
     },
     "metadata": {},
     "output_type": "display_data"
    }
   ],
   "source": [
    "# Creating the chart\n",
    "selected_locations = [\"Randers\", \"Brønderslev\", \"Faxe\"]\n",
    "chart_title = \"Number of m² that can be bought with average annual disposable income in municipalities that do not follow the general trend\"\n",
    "fig = plot_price(\n",
    "    sales_data, \"M2AffordedTotal\", chart_title, selected_locations, [\"Actual price\"]\n",
    ")\n",
    "fig"
   ]
  },
  {
   "cell_type": "code",
   "execution_count": 79,
   "id": "eb2ff91f",
   "metadata": {},
   "outputs": [],
   "source": [
    "# Export to a standalone HTML file\n",
    "html_str = pio.to_html(fig, full_html=False, include_plotlyjs=\"cdn\")\n",
    "with open(\"Charts/Figure6.html\", \"w\", encoding=\"utf-8\") as f:\n",
    "    f.write(html_str)"
   ]
  },
  {
   "cell_type": "code",
   "execution_count": 80,
   "id": "02747d58",
   "metadata": {},
   "outputs": [],
   "source": [
    "# Exporting as a PNG file\n",
    "fig.write_image(\"Charts/Figure6.png\")"
   ]
  },
  {
   "cell_type": "markdown",
   "id": "1416b83a",
   "metadata": {},
   "source": [
    "## Figure 7"
   ]
  },
  {
   "cell_type": "code",
   "execution_count": 81,
   "id": "4747d2f1",
   "metadata": {},
   "outputs": [
    {
     "data": {
      "application/vnd.plotly.v1+json": {
       "config": {
        "plotlyServerURL": "https://plot.ly"
       },
       "data": [
        {
         "hovertemplate": "Municipality=Odense<br>Year=%{x}<br>Average price per m²=%{y}<extra></extra>",
         "legendgroup": "Odense",
         "line": {
          "color": "#1ea2b5",
          "dash": "solid"
         },
         "marker": {
          "symbol": "circle"
         },
         "mode": "lines",
         "name": "Odense",
         "orientation": "v",
         "showlegend": true,
         "textposition": "top center",
         "type": "scatter",
         "x": [
          2029,
          2028,
          2027,
          2026,
          2025,
          2024,
          2023,
          2022,
          2021,
          2020,
          2019,
          2018,
          2017,
          2016,
          2015,
          2014,
          2013,
          2012,
          2011,
          2010,
          2009,
          2008,
          2007,
          2006,
          2005,
          2004,
          2003,
          2002,
          2001,
          2000,
          1999,
          1998,
          1997,
          1996,
          1995,
          1994,
          1993,
          1992
         ],
         "xaxis": "x",
         "y": [
          28377.66,
          27254.15,
          26196.78,
          25236.47,
          24414.72,
          23039.21,
          22700.1,
          23399.65,
          24054.36,
          23077.56,
          22181.63,
          20409.41,
          18505.97,
          17426.79,
          16489.08,
          15575.32,
          14421.64,
          13842.63,
          13788.63,
          14791.87,
          14383.12,
          15619.79,
          16684.19,
          15789.56,
          12316.75,
          10470.78,
          8564.19,
          8276.89,
          8116.71,
          8105.24,
          7845.05,
          7587.72,
          6564.11,
          5862.6,
          5555.53,
          5208.18,
          4987.73,
          5482.81
         ],
         "yaxis": "y"
        },
        {
         "hovertemplate": "Municipality=København<br>Year=%{x}<br>Average price per m²=%{y}<extra></extra>",
         "legendgroup": "København",
         "line": {
          "color": "#324b4f",
          "dash": "solid"
         },
         "marker": {
          "symbol": "circle"
         },
         "mode": "lines",
         "name": "København",
         "orientation": "v",
         "showlegend": true,
         "textposition": "top center",
         "type": "scatter",
         "x": [
          2029,
          2028,
          2027,
          2026,
          2025,
          2024,
          2023,
          2022,
          2021,
          2020,
          2019,
          2018,
          2017,
          2016,
          2015,
          2014,
          2013,
          2012,
          2011,
          2010,
          2009,
          2008,
          2007,
          2006,
          2005,
          2004,
          2003,
          2002,
          2001,
          2000,
          1999,
          1998,
          1997,
          1996,
          1995,
          1994,
          1993,
          1992
         ],
         "xaxis": "x",
         "y": [
          62438.64,
          59515.32,
          56758.01,
          54242.85,
          51751.57,
          51678.38,
          48016.27,
          49571.68,
          48809.68,
          42515.65,
          39847.7,
          39727.66,
          37654.15,
          33995.55,
          30973.84,
          27589.14,
          25823.5,
          22846.58,
          23085.88,
          23329.19,
          21086.68,
          24415.54,
          27337,
          30874.37,
          25716.93,
          19698.79,
          17347.18,
          16323.78,
          14794.53,
          12551.35,
          10990.6,
          9151.77,
          7641.43,
          6582.55,
          5845.68,
          5677.85,
          5763.42,
          6067.25
         ],
         "yaxis": "y"
        },
        {
         "hovertemplate": "Municipality=Frederiksberg<br>Year=%{x}<br>Average price per m²=%{y}<extra></extra>",
         "legendgroup": "Frederiksberg",
         "line": {
          "color": "#95b0b5",
          "dash": "solid"
         },
         "marker": {
          "symbol": "circle"
         },
         "mode": "lines",
         "name": "Frederiksberg",
         "orientation": "v",
         "showlegend": true,
         "textposition": "top center",
         "type": "scatter",
         "x": [
          2029,
          2028,
          2027,
          2026,
          2025,
          2024,
          2023,
          2022,
          2021,
          2020,
          2019,
          2018,
          2017,
          2016,
          2015,
          2014,
          2013,
          2012,
          2011,
          2010,
          2009,
          2008,
          2007,
          2006,
          2005,
          2004,
          2003,
          2002,
          2001,
          2000,
          1999,
          1998,
          1997,
          1996,
          1995,
          1994,
          1993,
          1992
         ],
         "xaxis": "x",
         "y": [
          82506.21,
          78460.38,
          74616.69,
          71060.46,
          67894.51,
          66554.12,
          61971.56,
          64351.14,
          61273.78,
          52678.43,
          48640.06,
          48728.01,
          46695.2,
          43002.21,
          40658.3,
          35735.21,
          32835.83,
          28978.44,
          28353.02,
          27344.74,
          24474.42,
          27399.35,
          30934.14,
          33523.93,
          27820.15,
          20512.19,
          18281.5,
          17705,
          16223.25,
          14197,
          13061.25,
          11091.5,
          9563,
          8095.5,
          7112.75,
          6646.75,
          6365.25,
          6417.75
         ],
         "yaxis": "y"
        },
        {
         "hovertemplate": "Municipality=Aarhus<br>Year=%{x}<br>Average price per m²=%{y}<extra></extra>",
         "legendgroup": "Aarhus",
         "line": {
          "color": "#9f8ac3",
          "dash": "solid"
         },
         "marker": {
          "symbol": "circle"
         },
         "mode": "lines",
         "name": "Aarhus",
         "orientation": "v",
         "showlegend": true,
         "textposition": "top center",
         "type": "scatter",
         "x": [
          2029,
          2028,
          2027,
          2026,
          2025,
          2024,
          2023,
          2022,
          2021,
          2020,
          2019,
          2018,
          2017,
          2016,
          2015,
          2014,
          2013,
          2012,
          2011,
          2010,
          2009,
          2008,
          2007,
          2006,
          2005,
          2004,
          2003,
          2002,
          2001,
          2000,
          1999,
          1998,
          1997,
          1996,
          1995,
          1994,
          1993,
          1992
         ],
         "xaxis": "x",
         "y": [
          44705.14,
          43020.92,
          41430.26,
          39975.51,
          38743.92,
          37130.12,
          36696.58,
          38045.66,
          37418.47,
          33712.94,
          32057.62,
          32289.5,
          30879.16,
          29363.41,
          27559.54,
          25171.07,
          24030.89,
          22920.45,
          23421.16,
          23015.97,
          20783.77,
          23080.6,
          24855.15,
          27156.45,
          22735.59,
          18094.06,
          13256.77,
          12590.03,
          11873.97,
          11986.51,
          11462.11,
          10769.46,
          9490.17,
          8406.2,
          7386.24,
          7244.78,
          6695.03,
          6980.34
         ],
         "yaxis": "y"
        },
        {
         "hovertemplate": "Municipality=Aalborg<br>Year=%{x}<br>Average price per m²=%{y}<extra></extra>",
         "legendgroup": "Aalborg",
         "line": {
          "color": "#6b588d",
          "dash": "solid"
         },
         "marker": {
          "symbol": "circle"
         },
         "mode": "lines",
         "name": "Aalborg",
         "orientation": "v",
         "showlegend": true,
         "textposition": "top center",
         "type": "scatter",
         "x": [
          2029,
          2028,
          2027,
          2026,
          2025,
          2024,
          2023,
          2022,
          2021,
          2020,
          2019,
          2018,
          2017,
          2016,
          2015,
          2014,
          2013,
          2012,
          2011,
          2010,
          2009,
          2008,
          2007,
          2006,
          2005,
          2004,
          2003,
          2002,
          2001,
          2000,
          1999,
          1998,
          1997,
          1996,
          1995,
          1994,
          1993,
          1992
         ],
         "xaxis": "x",
         "y": [
          24490.5,
          23593.17,
          22747.04,
          21975.68,
          21644,
          20461.09,
          20123.51,
          20927.28,
          20811.79,
          20009.88,
          19922.63,
          20329.3,
          20212.86,
          18488.4,
          16734.57,
          15110.27,
          14502.29,
          13533.92,
          13356.23,
          13365.93,
          13213.92,
          13961.08,
          14793.65,
          13961.53,
          12140.1,
          10530.46,
          9037.75,
          8870.87,
          8697.71,
          8644.54,
          8282.67,
          7293.6,
          6343.6,
          5389.5,
          5021.33,
          4946.69,
          4747,
          4602.2
         ],
         "yaxis": "y"
        }
       ],
       "layout": {
        "legend": {
         "title": {
          "text": "Municipality"
         },
         "tracegroupgap": 0
        },
        "margin": {
         "t": 60
        },
        "template": {
         "layout": {
          "colorway": [
           "#1ea2b5",
           "#324b4f",
           "#95b0b5",
           "#9f8ac3",
           "#6b588d"
          ]
         }
        },
        "title": {
         "text": "Average price per m² for Denmark's four largest cities over time (incl. predictions)"
        },
        "xaxis": {
         "anchor": "y",
         "domain": [
          0,
          1
         ],
         "title": {
          "text": "Year"
         }
        },
        "yaxis": {
         "anchor": "x",
         "domain": [
          0,
          1
         ],
         "title": {
          "text": "Average price per m²"
         }
        }
       }
      }
     },
     "metadata": {},
     "output_type": "display_data"
    }
   ],
   "source": [
    "# Creating the chart\n",
    "selected_locations = [\"København\", \"Frederiksberg\", \"Aarhus\", \"Odense\", \"Aalborg\"]\n",
    "chart_title = \"Average price per m² for Denmark's four largest cities over time (incl. predictions)\"\n",
    "fig = plot_price(\n",
    "    sales_data,\n",
    "    \"AvgSalesPrice\",\n",
    "    chart_title,\n",
    "    selected_locations,\n",
    "    [\"Actual price\", \"Predicted price\"],\n",
    ")\n",
    "fig"
   ]
  },
  {
   "cell_type": "code",
   "execution_count": 82,
   "id": "927c82a8",
   "metadata": {},
   "outputs": [],
   "source": [
    "# Export to a standalone HTML file\n",
    "html_str = pio.to_html(fig, full_html=False, include_plotlyjs=\"cdn\")\n",
    "with open(\"Charts/Figure7.html\", \"w\", encoding=\"utf-8\") as f:\n",
    "    f.write(html_str)"
   ]
  },
  {
   "cell_type": "code",
   "execution_count": 83,
   "id": "a4b62c1d",
   "metadata": {},
   "outputs": [],
   "source": [
    "# Exporting as a PNG file\n",
    "fig.write_image(\"Charts/Figure7.png\")"
   ]
  },
  {
   "cell_type": "markdown",
   "id": "295d84e0",
   "metadata": {},
   "source": [
    "## Figure 8"
   ]
  },
  {
   "cell_type": "code",
   "execution_count": 84,
   "id": "58fe45f4",
   "metadata": {},
   "outputs": [
    {
     "data": {
      "application/vnd.plotly.v1+json": {
       "config": {
        "plotlyServerURL": "https://plot.ly"
       },
       "data": [
        {
         "hovertemplate": "Municipality=Odense<br>Year=%{x}<br>Average price per m²=%{y}<extra></extra>",
         "legendgroup": "Odense",
         "line": {
          "color": "#1ea2b5",
          "dash": "solid"
         },
         "marker": {
          "symbol": "circle"
         },
         "mode": "lines",
         "name": "Odense",
         "orientation": "v",
         "showlegend": true,
         "textposition": "top center",
         "type": "scatter",
         "x": [
          2024,
          2023,
          2022,
          2021,
          2020,
          2019,
          2018,
          2017,
          2016,
          2015,
          2014,
          2013,
          2012,
          2011,
          2010,
          2009,
          2008,
          2007,
          2006,
          2005,
          2004,
          2003,
          2002,
          2001,
          2000,
          1999,
          1998,
          1997,
          1996,
          1995,
          1994,
          1993,
          1992
         ],
         "xaxis": "x",
         "y": [
          23039.21,
          22700.1,
          23399.65,
          24054.36,
          23077.56,
          22181.63,
          20409.41,
          18505.97,
          17426.79,
          16489.08,
          15575.32,
          14421.64,
          13842.63,
          13788.63,
          14791.87,
          14383.12,
          15619.79,
          16684.19,
          15789.56,
          12316.75,
          10470.78,
          8564.19,
          8276.89,
          8116.71,
          8105.24,
          7845.05,
          7587.72,
          6564.11,
          5862.6,
          5555.53,
          5208.18,
          4987.73,
          5482.81
         ],
         "yaxis": "y"
        },
        {
         "hovertemplate": "Municipality=København<br>Year=%{x}<br>Average price per m²=%{y}<extra></extra>",
         "legendgroup": "København",
         "line": {
          "color": "#324b4f",
          "dash": "solid"
         },
         "marker": {
          "symbol": "circle"
         },
         "mode": "lines",
         "name": "København",
         "orientation": "v",
         "showlegend": true,
         "textposition": "top center",
         "type": "scatter",
         "x": [
          2024,
          2023,
          2022,
          2021,
          2020,
          2019,
          2018,
          2017,
          2016,
          2015,
          2014,
          2013,
          2012,
          2011,
          2010,
          2009,
          2008,
          2007,
          2006,
          2005,
          2004,
          2003,
          2002,
          2001,
          2000,
          1999,
          1998,
          1997,
          1996,
          1995,
          1994,
          1993,
          1992
         ],
         "xaxis": "x",
         "y": [
          51678.38,
          48016.27,
          49571.68,
          48809.68,
          42515.65,
          39847.7,
          39727.66,
          37654.15,
          33995.55,
          30973.84,
          27589.14,
          25823.5,
          22846.58,
          23085.88,
          23329.19,
          21086.68,
          24415.54,
          27337,
          30874.37,
          25716.93,
          19698.79,
          17347.18,
          16323.78,
          14794.53,
          12551.35,
          10990.6,
          9151.77,
          7641.43,
          6582.55,
          5845.68,
          5677.85,
          5763.42,
          6067.25
         ],
         "yaxis": "y"
        },
        {
         "hovertemplate": "Municipality=Aalborg<br>Year=%{x}<br>Average price per m²=%{y}<extra></extra>",
         "legendgroup": "Aalborg",
         "line": {
          "color": "#95b0b5",
          "dash": "solid"
         },
         "marker": {
          "symbol": "circle"
         },
         "mode": "lines",
         "name": "Aalborg",
         "orientation": "v",
         "showlegend": true,
         "textposition": "top center",
         "type": "scatter",
         "x": [
          2024,
          2023,
          2022,
          2021,
          2020,
          2019,
          2018,
          2017,
          2016,
          2015,
          2014,
          2013,
          2012,
          2011,
          2010,
          2009,
          2008,
          2007,
          2006,
          2005,
          2004,
          2003,
          2002,
          2001,
          2000,
          1999,
          1998,
          1997,
          1996,
          1995,
          1994,
          1993,
          1992
         ],
         "xaxis": "x",
         "y": [
          20461.09,
          20123.51,
          20927.28,
          20811.79,
          20009.88,
          19922.63,
          20329.3,
          20212.86,
          18488.4,
          16734.57,
          15110.27,
          14502.29,
          13533.92,
          13356.23,
          13365.93,
          13213.92,
          13961.08,
          14793.65,
          13961.53,
          12140.1,
          10530.46,
          9037.75,
          8870.87,
          8697.71,
          8644.54,
          8282.67,
          7293.6,
          6343.6,
          5389.5,
          5021.33,
          4946.69,
          4747,
          4602.2
         ],
         "yaxis": "y"
        },
        {
         "hovertemplate": "Municipality=Aarhus<br>Year=%{x}<br>Average price per m²=%{y}<extra></extra>",
         "legendgroup": "Aarhus",
         "line": {
          "color": "#9f8ac3",
          "dash": "solid"
         },
         "marker": {
          "symbol": "circle"
         },
         "mode": "lines",
         "name": "Aarhus",
         "orientation": "v",
         "showlegend": true,
         "textposition": "top center",
         "type": "scatter",
         "x": [
          2024,
          2023,
          2022,
          2021,
          2020,
          2019,
          2018,
          2017,
          2016,
          2015,
          2014,
          2013,
          2012,
          2011,
          2010,
          2009,
          2008,
          2007,
          2006,
          2005,
          2004,
          2003,
          2002,
          2001,
          2000,
          1999,
          1998,
          1997,
          1996,
          1995,
          1994,
          1993,
          1992
         ],
         "xaxis": "x",
         "y": [
          37130.12,
          36696.58,
          38045.66,
          37418.47,
          33712.94,
          32057.62,
          32289.5,
          30879.16,
          29363.41,
          27559.54,
          25171.07,
          24030.89,
          22920.45,
          23421.16,
          23015.97,
          20783.77,
          23080.6,
          24855.15,
          27156.45,
          22735.59,
          18094.06,
          13256.77,
          12590.03,
          11873.97,
          11986.51,
          11462.11,
          10769.46,
          9490.17,
          8406.2,
          7386.24,
          7244.78,
          6695.03,
          6980.34
         ],
         "yaxis": "y"
        },
        {
         "hovertemplate": "Municipality=Frederiksberg<br>Year=%{x}<br>Average price per m²=%{y}<extra></extra>",
         "legendgroup": "Frederiksberg",
         "line": {
          "color": "#6b588d",
          "dash": "solid"
         },
         "marker": {
          "symbol": "circle"
         },
         "mode": "lines",
         "name": "Frederiksberg",
         "orientation": "v",
         "showlegend": true,
         "textposition": "top center",
         "type": "scatter",
         "x": [
          2024,
          2023,
          2022,
          2021,
          2020,
          2019,
          2018,
          2017,
          2016,
          2015,
          2014,
          2013,
          2012,
          2011,
          2010,
          2009,
          2008,
          2007,
          2006,
          2005,
          2004,
          2003,
          2002,
          2001,
          2000,
          1999,
          1998,
          1997,
          1996,
          1995,
          1994,
          1993,
          1992
         ],
         "xaxis": "x",
         "y": [
          66554.12,
          61971.56,
          64351.14,
          61273.78,
          52678.43,
          48640.06,
          48728.01,
          46695.2,
          43002.21,
          40658.3,
          35735.21,
          32835.83,
          28978.44,
          28353.02,
          27344.74,
          24474.42,
          27399.35,
          30934.14,
          33523.93,
          27820.15,
          20512.19,
          18281.5,
          17705,
          16223.25,
          14197,
          13061.25,
          11091.5,
          9563,
          8095.5,
          7112.75,
          6646.75,
          6365.25,
          6417.75
         ],
         "yaxis": "y"
        }
       ],
       "layout": {
        "legend": {
         "title": {
          "text": "Municipality"
         },
         "tracegroupgap": 0
        },
        "margin": {
         "t": 60
        },
        "template": {
         "layout": {
          "colorway": [
           "#1ea2b5",
           "#324b4f",
           "#95b0b5",
           "#9f8ac3",
           "#6b588d"
          ]
         }
        },
        "title": {
         "text": "Average price per m² for Denmark's four largest cities over time (incl. predictions)"
        },
        "xaxis": {
         "anchor": "y",
         "domain": [
          0,
          1
         ],
         "title": {
          "text": "Year"
         }
        },
        "yaxis": {
         "anchor": "x",
         "domain": [
          0,
          1
         ],
         "title": {
          "text": "Average price per m²"
         }
        }
       }
      }
     },
     "metadata": {},
     "output_type": "display_data"
    }
   ],
   "source": [
    "# Creating the chart\n",
    "selected_locations = [\"København\", \"Frederiksberg\", \"Aarhus\", \"Odense\", \"Aalborg\"]\n",
    "chart_title = \"Average price per m² for Denmark's four largest cities over time (incl. predictions)\"\n",
    "fig = plot_price(\n",
    "    sales_data,\n",
    "    \"AvgSalesPrice\",\n",
    "    chart_title,\n",
    "    selected_locations,\n",
    "    [\"Actual price\"],\n",
    ")\n",
    "fig"
   ]
  },
  {
   "cell_type": "code",
   "execution_count": 85,
   "id": "0e22910e",
   "metadata": {},
   "outputs": [],
   "source": [
    "# Export to a standalone HTML file\n",
    "html_str = pio.to_html(fig, full_html=False, include_plotlyjs=\"cdn\")\n",
    "with open(\"Charts/Figure8.html\", \"w\", encoding=\"utf-8\") as f:\n",
    "    f.write(html_str)"
   ]
  },
  {
   "cell_type": "code",
   "execution_count": 86,
   "id": "c467fef1",
   "metadata": {},
   "outputs": [],
   "source": [
    "# Exporting as a PNG file\n",
    "fig.write_image(\"Charts/Figure8.png\")"
   ]
  },
  {
   "cell_type": "code",
   "execution_count": null,
   "id": "866b89f9",
   "metadata": {},
   "outputs": [],
   "source": []
  }
 ],
 "metadata": {
  "kernelspec": {
   "display_name": "Python 3",
   "language": "python",
   "name": "python3"
  },
  "language_info": {
   "codemirror_mode": {
    "name": "ipython",
    "version": 3
   },
   "file_extension": ".py",
   "mimetype": "text/x-python",
   "name": "python",
   "nbconvert_exporter": "python",
   "pygments_lexer": "ipython3",
   "version": "3.11.1"
  }
 },
 "nbformat": 4,
 "nbformat_minor": 5
}
